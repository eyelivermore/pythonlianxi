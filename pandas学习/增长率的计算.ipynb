{
 "cells": [
  {
   "cell_type": "code",
   "execution_count": 2,
   "metadata": {
    "collapsed": true
   },
   "outputs": [],
   "source": [
    "import pandas as pd\n",
    "import numpy as np\n",
    "import matplotlib.pyplot as plt\n",
    "import matplotlib"
   ]
  },
  {
   "cell_type": "code",
   "execution_count": 3,
   "metadata": {
    "collapsed": true
   },
   "outputs": [],
   "source": [
    "ts = pd.date_range('2010-01-01',periods=30 ,freq='Y')"
   ]
  },
  {
   "cell_type": "code",
   "execution_count": 4,
   "metadata": {
    "collapsed": true
   },
   "outputs": [],
   "source": [
    "d = {'金额':1000,\n",
    "     '增长率':7}"
   ]
  },
  {
   "cell_type": "code",
   "execution_count": 15,
   "metadata": {
    "collapsed": true
   },
   "outputs": [],
   "source": [
    "df = pd.DataFrame(d,index = ts)"
   ]
  },
  {
   "cell_type": "code",
   "execution_count": 9,
   "metadata": {
    "collapsed": true
   },
   "outputs": [],
   "source": []
  },
  {
   "cell_type": "code",
   "execution_count": 77,
   "metadata": {
    "collapsed": true
   },
   "outputs": [],
   "source": [
    "df['收益2'] = (df['金额']+6000).cumsum()*1.07"
   ]
  },
  {
   "cell_type": "code",
   "execution_count": 36,
   "metadata": {
    "collapsed": true
   },
   "outputs": [],
   "source": [
    "df['增长率']= 1.07"
   ]
  },
  {
   "cell_type": "code",
   "execution_count": 17,
   "metadata": {
    "collapsed": true
   },
   "outputs": [],
   "source": [
    "df['金额'] = 6000"
   ]
  },
  {
   "cell_type": "code",
   "execution_count": 73,
   "metadata": {
    "collapsed": true
   },
   "outputs": [],
   "source": [
    "df[\"收益率\"] = df['增长率']*1"
   ]
  },
  {
   "cell_type": "code",
   "execution_count": 9,
   "metadata": {},
   "outputs": [],
   "source": [
    "df['总金额'] = df['金额'].cumsum()"
   ]
  },
  {
   "cell_type": "code",
   "execution_count": 13,
   "metadata": {},
   "outputs": [],
   "source": [
    "df['总金额'] = (df['总金额']*1.07).cumprod()"
   ]
  },
  {
   "cell_type": "code",
   "execution_count": 44,
   "metadata": {
    "collapsed": true
   },
   "outputs": [],
   "source": [
    "df['总投入'] = df['金额'].cumsum()"
   ]
  },
  {
   "cell_type": "code",
   "execution_count": 40,
   "metadata": {},
   "outputs": [],
   "source": [
    "df['总收益'] = df['总收益'].cumsum()"
   ]
  },
  {
   "cell_type": "code",
   "execution_count": 38,
   "metadata": {},
   "outputs": [],
   "source": [
    "df['总收益率'] = df['增长率'].cumprod()"
   ]
  },
  {
   "cell_type": "code",
   "execution_count": 42,
   "metadata": {},
   "outputs": [],
   "source": [
    "df['总收益'] = df['总收益'] * df['总收益率']"
   ]
  },
  {
   "cell_type": "code",
   "execution_count": 48,
   "metadata": {},
   "outputs": [
    {
     "data": {
      "image/png": "[encoded data removed]",
      "text/plain": [
       "<Figure size 432x288 with 1 Axes>"
      ]
     },
     "metadata": {},
     "output_type": "display_data"
    }
   ],
   "source": [
    "df['总收益'].plot()\n",
    "plt.grid()"
   ]
  },
  {
   "cell_type": "code",
   "execution_count": 49,
   "metadata": {},
   "outputs": [
    {
     "data": {
      "text/html": [
       "<div>\n",
       "<style scoped>\n",
       "    .dataframe tbody tr th:only-of-type {\n",
       "        vertical-align: middle;\n",
       "    }\n",
       "\n",
       "    .dataframe tbody tr th {\n",
       "        vertical-align: top;\n",
       "    }\n",
       "\n",
       "    .dataframe thead th {\n",
       "        text-align: right;\n",
       "    }\n",
       "</style>\n",
       "<table border=\"1\" class=\"dataframe\">\n",
       "  <thead>\n",
       "    <tr style=\"text-align: right;\">\n",
       "      <th></th>\n",
       "      <th>金额</th>\n",
       "      <th>增长率</th>\n",
       "      <th>总收益</th>\n",
       "      <th>总收益率</th>\n",
       "      <th>总投入</th>\n",
       "    </tr>\n",
       "  </thead>\n",
       "  <tbody>\n",
       "    <tr>\n",
       "      <th>2010-12-31</th>\n",
       "      <td>6000</td>\n",
       "      <td>1.07</td>\n",
       "      <td>6.420000e+03</td>\n",
       "      <td>1.070000</td>\n",
       "      <td>6000</td>\n",
       "    </tr>\n",
       "    <tr>\n",
       "      <th>2011-12-31</th>\n",
       "      <td>6000</td>\n",
       "      <td>1.07</td>\n",
       "      <td>1.373880e+04</td>\n",
       "      <td>1.144900</td>\n",
       "      <td>12000</td>\n",
       "    </tr>\n",
       "    <tr>\n",
       "      <th>2012-12-31</th>\n",
       "      <td>6000</td>\n",
       "      <td>1.07</td>\n",
       "      <td>2.205077e+04</td>\n",
       "      <td>1.225043</td>\n",
       "      <td>18000</td>\n",
       "    </tr>\n",
       "    <tr>\n",
       "      <th>2013-12-31</th>\n",
       "      <td>6000</td>\n",
       "      <td>1.07</td>\n",
       "      <td>3.145910e+04</td>\n",
       "      <td>1.310796</td>\n",
       "      <td>24000</td>\n",
       "    </tr>\n",
       "    <tr>\n",
       "      <th>2014-12-31</th>\n",
       "      <td>6000</td>\n",
       "      <td>1.07</td>\n",
       "      <td>4.207655e+04</td>\n",
       "      <td>1.402552</td>\n",
       "      <td>30000</td>\n",
       "    </tr>\n",
       "    <tr>\n",
       "      <th>2015-12-31</th>\n",
       "      <td>6000</td>\n",
       "      <td>1.07</td>\n",
       "      <td>5.402629e+04</td>\n",
       "      <td>1.500730</td>\n",
       "      <td>36000</td>\n",
       "    </tr>\n",
       "    <tr>\n",
       "      <th>2016-12-31</th>\n",
       "      <td>6000</td>\n",
       "      <td>1.07</td>\n",
       "      <td>6.744282e+04</td>\n",
       "      <td>1.605781</td>\n",
       "      <td>42000</td>\n",
       "    </tr>\n",
       "    <tr>\n",
       "      <th>2017-12-31</th>\n",
       "      <td>6000</td>\n",
       "      <td>1.07</td>\n",
       "      <td>8.247294e+04</td>\n",
       "      <td>1.718186</td>\n",
       "      <td>48000</td>\n",
       "    </tr>\n",
       "    <tr>\n",
       "      <th>2018-12-31</th>\n",
       "      <td>6000</td>\n",
       "      <td>1.07</td>\n",
       "      <td>9.927680e+04</td>\n",
       "      <td>1.838459</td>\n",
       "      <td>54000</td>\n",
       "    </tr>\n",
       "    <tr>\n",
       "      <th>2019-12-31</th>\n",
       "      <td>6000</td>\n",
       "      <td>1.07</td>\n",
       "      <td>1.180291e+05</td>\n",
       "      <td>1.967151</td>\n",
       "      <td>60000</td>\n",
       "    </tr>\n",
       "    <tr>\n",
       "      <th>2020-12-31</th>\n",
       "      <td>6000</td>\n",
       "      <td>1.07</td>\n",
       "      <td>1.389202e+05</td>\n",
       "      <td>2.104852</td>\n",
       "      <td>66000</td>\n",
       "    </tr>\n",
       "    <tr>\n",
       "      <th>2021-12-31</th>\n",
       "      <td>6000</td>\n",
       "      <td>1.07</td>\n",
       "      <td>1.621578e+05</td>\n",
       "      <td>2.252192</td>\n",
       "      <td>72000</td>\n",
       "    </tr>\n",
       "    <tr>\n",
       "      <th>2022-12-31</th>\n",
       "      <td>6000</td>\n",
       "      <td>1.07</td>\n",
       "      <td>1.879679e+05</td>\n",
       "      <td>2.409845</td>\n",
       "      <td>78000</td>\n",
       "    </tr>\n",
       "    <tr>\n",
       "      <th>2023-12-31</th>\n",
       "      <td>6000</td>\n",
       "      <td>1.07</td>\n",
       "      <td>2.165969e+05</td>\n",
       "      <td>2.578534</td>\n",
       "      <td>84000</td>\n",
       "    </tr>\n",
       "    <tr>\n",
       "      <th>2024-12-31</th>\n",
       "      <td>6000</td>\n",
       "      <td>1.07</td>\n",
       "      <td>2.483128e+05</td>\n",
       "      <td>2.759032</td>\n",
       "      <td>90000</td>\n",
       "    </tr>\n",
       "    <tr>\n",
       "      <th>2025-12-31</th>\n",
       "      <td>6000</td>\n",
       "      <td>1.07</td>\n",
       "      <td>2.834077e+05</td>\n",
       "      <td>2.952164</td>\n",
       "      <td>96000</td>\n",
       "    </tr>\n",
       "    <tr>\n",
       "      <th>2026-12-31</th>\n",
       "      <td>6000</td>\n",
       "      <td>1.07</td>\n",
       "      <td>3.221992e+05</td>\n",
       "      <td>3.158815</td>\n",
       "      <td>102000</td>\n",
       "    </tr>\n",
       "    <tr>\n",
       "      <th>2027-12-31</th>\n",
       "      <td>6000</td>\n",
       "      <td>1.07</td>\n",
       "      <td>3.650327e+05</td>\n",
       "      <td>3.379932</td>\n",
       "      <td>108000</td>\n",
       "    </tr>\n",
       "    <tr>\n",
       "      <th>2028-12-31</th>\n",
       "      <td>6000</td>\n",
       "      <td>1.07</td>\n",
       "      <td>4.122841e+05</td>\n",
       "      <td>3.616528</td>\n",
       "      <td>114000</td>\n",
       "    </tr>\n",
       "    <tr>\n",
       "      <th>2029-12-31</th>\n",
       "      <td>6000</td>\n",
       "      <td>1.07</td>\n",
       "      <td>4.643621e+05</td>\n",
       "      <td>3.869684</td>\n",
       "      <td>120000</td>\n",
       "    </tr>\n",
       "    <tr>\n",
       "      <th>2030-12-31</th>\n",
       "      <td>6000</td>\n",
       "      <td>1.07</td>\n",
       "      <td>5.217109e+05</td>\n",
       "      <td>4.140562</td>\n",
       "      <td>126000</td>\n",
       "    </tr>\n",
       "    <tr>\n",
       "      <th>2031-12-31</th>\n",
       "      <td>6000</td>\n",
       "      <td>1.07</td>\n",
       "      <td>5.848130e+05</td>\n",
       "      <td>4.430402</td>\n",
       "      <td>132000</td>\n",
       "    </tr>\n",
       "    <tr>\n",
       "      <th>2032-12-31</th>\n",
       "      <td>6000</td>\n",
       "      <td>1.07</td>\n",
       "      <td>6.541931e+05</td>\n",
       "      <td>4.740530</td>\n",
       "      <td>138000</td>\n",
       "    </tr>\n",
       "    <tr>\n",
       "      <th>2033-12-31</th>\n",
       "      <td>6000</td>\n",
       "      <td>1.07</td>\n",
       "      <td>7.304208e+05</td>\n",
       "      <td>5.072367</td>\n",
       "      <td>144000</td>\n",
       "    </tr>\n",
       "    <tr>\n",
       "      <th>2034-12-31</th>\n",
       "      <td>6000</td>\n",
       "      <td>1.07</td>\n",
       "      <td>8.141149e+05</td>\n",
       "      <td>5.427433</td>\n",
       "      <td>150000</td>\n",
       "    </tr>\n",
       "    <tr>\n",
       "      <th>2035-12-31</th>\n",
       "      <td>6000</td>\n",
       "      <td>1.07</td>\n",
       "      <td>9.059471e+05</td>\n",
       "      <td>5.807353</td>\n",
       "      <td>156000</td>\n",
       "    </tr>\n",
       "    <tr>\n",
       "      <th>2036-12-31</th>\n",
       "      <td>6000</td>\n",
       "      <td>1.07</td>\n",
       "      <td>1.006647e+06</td>\n",
       "      <td>6.213868</td>\n",
       "      <td>162000</td>\n",
       "    </tr>\n",
       "    <tr>\n",
       "      <th>2037-12-31</th>\n",
       "      <td>6000</td>\n",
       "      <td>1.07</td>\n",
       "      <td>1.117005e+06</td>\n",
       "      <td>6.648838</td>\n",
       "      <td>168000</td>\n",
       "    </tr>\n",
       "    <tr>\n",
       "      <th>2038-12-31</th>\n",
       "      <td>6000</td>\n",
       "      <td>1.07</td>\n",
       "      <td>1.237881e+06</td>\n",
       "      <td>7.114257</td>\n",
       "      <td>174000</td>\n",
       "    </tr>\n",
       "    <tr>\n",
       "      <th>2039-12-31</th>\n",
       "      <td>6000</td>\n",
       "      <td>1.07</td>\n",
       "      <td>1.370206e+06</td>\n",
       "      <td>7.612255</td>\n",
       "      <td>180000</td>\n",
       "    </tr>\n",
       "  </tbody>\n",
       "</table>\n",
       "</div>"
      ],
      "text/plain": [
       "              金额   增长率           总收益      总收益率     总投入\n",
       "2010-12-31  6000  1.07  6.420000e+03  1.070000    6000\n",
       "2011-12-31  6000  1.07  1.373880e+04  1.144900   12000\n",
       "2012-12-31  6000  1.07  2.205077e+04  1.225043   18000\n",
       "2013-12-31  6000  1.07  3.145910e+04  1.310796   24000\n",
       "2014-12-31  6000  1.07  4.207655e+04  1.402552   30000\n",
       "2015-12-31  6000  1.07  5.402629e+04  1.500730   36000\n",
       "2016-12-31  6000  1.07  6.744282e+04  1.605781   42000\n",
       "2017-12-31  6000  1.07  8.247294e+04  1.718186   48000\n",
       "2018-12-31  6000  1.07  9.927680e+04  1.838459   54000\n",
       "2019-12-31  6000  1.07  1.180291e+05  1.967151   60000\n",
       "2020-12-31  6000  1.07  1.389202e+05  2.104852   66000\n",
       "2021-12-31  6000  1.07  1.621578e+05  2.252192   72000\n",
       "2022-12-31  6000  1.07  1.879679e+05  2.409845   78000\n",
       "2023-12-31  6000  1.07  2.165969e+05  2.578534   84000\n",
       "2024-12-31  6000  1.07  2.483128e+05  2.759032   90000\n",
       "2025-12-31  6000  1.07  2.834077e+05  2.952164   96000\n",
       "2026-12-31  6000  1.07  3.221992e+05  3.158815  102000\n",
       "2027-12-31  6000  1.07  3.650327e+05  3.379932  108000\n",
       "2028-12-31  6000  1.07  4.122841e+05  3.616528  114000\n",
       "2029-12-31  6000  1.07  4.643621e+05  3.869684  120000\n",
       "2030-12-31  6000  1.07  5.217109e+05  4.140562  126000\n",
       "2031-12-31  6000  1.07  5.848130e+05  4.430402  132000\n",
       "2032-12-31  6000  1.07  6.541931e+05  4.740530  138000\n",
       "2033-12-31  6000  1.07  7.304208e+05  5.072367  144000\n",
       "2034-12-31  6000  1.07  8.141149e+05  5.427433  150000\n",
       "2035-12-31  6000  1.07  9.059471e+05  5.807353  156000\n",
       "2036-12-31  6000  1.07  1.006647e+06  6.213868  162000\n",
       "2037-12-31  6000  1.07  1.117005e+06  6.648838  168000\n",
       "2038-12-31  6000  1.07  1.237881e+06  7.114257  174000\n",
       "2039-12-31  6000  1.07  1.370206e+06  7.612255  180000"
      ]
     },
     "execution_count": 49,
     "metadata": {},
     "output_type": "execute_result"
    }
   ],
   "source": [
    "df"
   ]
  },
  {
   "cell_type": "code",
   "execution_count": 77,
   "metadata": {},
   "outputs": [],
   "source": [
    "def fljs(i,j = 6000):\n",
    "    for a in range(i+1):\n",
    "        j = j*1.07\n",
    "        print('第{}年的收益是{:.2f}'.format(a+1,j))\n",
    "        j = j+6000\n",
    "        "
   ]
  },
  {
   "cell_type": "code",
   "execution_count": 78,
   "metadata": {},
   "outputs": [
    {
     "name": "stdout",
     "output_type": "stream",
     "text": [
      "第1年的收益是6420.00\n",
      "第2年的收益是13289.40\n",
      "第3年的收益是20639.66\n",
      "第4年的收益是28504.43\n",
      "第5年的收益是36919.74\n",
      "第6年的收益是45924.13\n",
      "第7年的收益是55558.82\n",
      "第8年的收益是65867.93\n",
      "第9年的收益是76898.69\n",
      "第10年的收益是88701.60\n",
      "第11年的收益是101330.71\n",
      "第12年的收益是114843.86\n",
      "第13年的收益是129302.93\n",
      "第14年的收益是144774.13\n",
      "第15年的收益是161328.32\n",
      "第16年的收益是179041.30\n",
      "第17年的收益是197994.20\n",
      "第18年的收益是218273.79\n",
      "第19年的收益是239972.95\n",
      "第20年的收益是263191.06\n",
      "第21年的收益是288034.43\n",
      "第22年的收益是314616.85\n",
      "第23年的收益是343060.02\n",
      "第24年的收益是373494.23\n",
      "第25年的收益是406058.82\n",
      "第26年的收益是440902.94\n",
      "第27年的收益是478186.15\n",
      "第28年的收益是518079.18\n",
      "第29年的收益是560764.72\n",
      "第30年的收益是606438.25\n",
      "第31年的收益是655308.93\n"
     ]
    }
   ],
   "source": [
    "fljs(30)"
   ]
  }
 ],
 "metadata": {
  "kernelspec": {
   "display_name": "Python 3",
   "language": "python",
   "name": "python3"
  },
  "language_info": {
   "codemirror_mode": {
    "name": "ipython",
    "version": 3
   },
   "file_extension": ".py",
   "mimetype": "text/x-python",
   "name": "python",
   "nbconvert_exporter": "python",
   "pygments_lexer": "ipython3",
   "version": "3.6.2"
  },
  "toc": {
   "base_numbering": 1,
   "nav_menu": {},
   "number_sections": true,
   "sideBar": true,
   "skip_h1_title": false,
   "title_cell": "Table of Contents",
   "title_sidebar": "Contents",
   "toc_cell": false,
   "toc_position": {},
   "toc_section_display": true,
   "toc_window_display": false
  }
 },
 "nbformat": 4,
 "nbformat_minor": 1
}
