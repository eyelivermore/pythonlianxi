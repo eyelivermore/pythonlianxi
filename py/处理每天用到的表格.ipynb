{
 "cells": [
  {
   "cell_type": "code",
   "execution_count": 10,
   "metadata": {},
   "outputs": [],
   "source": [
    "import pandas as pd\n",
    "\n",
    "path = '‪D:\\\\桌面\\\\07293031.csv'.strip(\"\\u202a\")"
   ]
  },
  {
   "cell_type": "code",
   "execution_count": 11,
   "metadata": {},
   "outputs": [],
   "source": [
    "df = pd.read_csv(path,engine=\"python\",encoding='GBK')\n",
    "\n",
    "df1 = df.drop(['订单号', '商品ID', '商品名称', '订购数量', '支付方式', '下单时间', '京东价', '订单金额', '结算金额',\n",
    "       '余额支付', '应付金额', '订单状态', '订单类型', '下单帐号', '虚拟号过期时间', '订单备注', '发票类型', '发票抬头', '发票内容', '纳税人识别号', '名称（个人）', '单位地址',\n",
    "       '单位电话', '开户银行', '银行账号', '商家备注', '商家备注等级（等级1-5为由高到低）', '运费金额', '订单来源', '订单渠道', '送装服务', '服务费', '仓库id', '仓库名称',\n",
    "     '邮箱地址', '邮政编码', '是否为品牌商订单', '是否为toplife订单', '业务类型', '履约门店ID',\n",
    "       '下单门店Id', '导购员账号', '延迟报备类型', 'Unnamed: 50', '货号', '订单完成时间'],axis = 1)\n",
    "\n",
    "dd = ['客户姓名','联系电话', '付款确认时间', '客户地址','商家SKUID']\n",
    "\n",
    "df2 = df1[['客户姓名','联系电话', '付款确认时间', '客户地址','商家SKUID']]\n",
    "\n",
    "df2['商家SKUID'] = df2['商家SKUID'].str.strip()"
   ]
  },
  {
   "cell_type": "code",
   "execution_count": 12,
   "metadata": {},
   "outputs": [],
   "source": [
    "df2 = df2.drop(df2[df2['商家SKUID'].str.contains('赠品',regex=True)].index)"
   ]
  },
  {
   "cell_type": "code",
   "execution_count": 13,
   "metadata": {},
   "outputs": [],
   "source": [
    "dfej = df2[df2['商家SKUID'].str.contains('二建',regex=True)]"
   ]
  },
  {
   "cell_type": "code",
   "execution_count": 14,
   "metadata": {},
   "outputs": [],
   "source": [
    "dfej.to_excel('D:/桌面/07293031二建.xlsx',index = False)"
   ]
  },
  {
   "cell_type": "code",
   "execution_count": 15,
   "metadata": {},
   "outputs": [],
   "source": [
    "dfyj = df2[df2['商家SKUID'].str.contains('一建',regex=True)]"
   ]
  },
  {
   "cell_type": "code",
   "execution_count": 17,
   "metadata": {},
   "outputs": [],
   "source": [
    "dfyj.to_excel('D:/桌面/07293031一建.xlsx',index = False)"
   ]
  },
  {
   "cell_type": "code",
   "execution_count": 16,
   "metadata": {},
   "outputs": [],
   "source": [
    "df2.to_excel('D:/桌面/07293031司法.xlsx',index= False)"
   ]
  },
  {
   "cell_type": "code",
   "execution_count": 18,
   "metadata": {},
   "outputs": [],
   "source": [
    "name = '司法'\n",
    "\n",
    "dfsf = df2[df2['商家SKUID'].str.contains(name,regex=True)]\n",
    "\n",
    "with pd.ExcelWriter(f'D:/桌面/07293031宸雯京东.xlsx') as writer:\n",
    "    dfsf.to_excel(writer,sheet_name=name,index = False)"
   ]
  },
  {
   "cell_type": "code",
   "execution_count": 24,
   "metadata": {},
   "outputs": [],
   "source": [
    "import datetime"
   ]
  },
  {
   "cell_type": "code",
   "execution_count": 27,
   "metadata": {},
   "outputs": [],
   "source": [
    "df2['付款确认时间'] = pd.to_datetime(df2['付款确认时间'])"
   ]
  },
  {
   "cell_type": "code",
   "execution_count": 8,
   "metadata": {},
   "outputs": [
    {
     "data": {
      "text/html": [
       "<div>\n",
       "<style scoped>\n",
       "    .dataframe tbody tr th:only-of-type {\n",
       "        vertical-align: middle;\n",
       "    }\n",
       "\n",
       "    .dataframe tbody tr th {\n",
       "        vertical-align: top;\n",
       "    }\n",
       "\n",
       "    .dataframe thead th {\n",
       "        text-align: right;\n",
       "    }\n",
       "</style>\n",
       "<table border=\"1\" class=\"dataframe\">\n",
       "  <thead>\n",
       "    <tr style=\"text-align: right;\">\n",
       "      <th></th>\n",
       "      <th>客户姓名</th>\n",
       "      <th>联系电话</th>\n",
       "      <th>付款确认时间</th>\n",
       "      <th>客户地址</th>\n",
       "      <th>商家SKUID</th>\n",
       "    </tr>\n",
       "  </thead>\n",
       "  <tbody>\n",
       "    <tr>\n",
       "      <th>0</th>\n",
       "      <td>勇敢牛牛</td>\n",
       "      <td>19834497920</td>\n",
       "      <td>\\t2022-07-28 18:23:05</td>\n",
       "      <td>湖北武汉市新洲区阳逻街道金台地铁站旁中铁十七局新洲项目部</td>\n",
       "      <td>22版一建考点教材、公路教材 试卷全套</td>\n",
       "    </tr>\n",
       "    <tr>\n",
       "      <th>1</th>\n",
       "      <td>王维国</td>\n",
       "      <td>17361583680</td>\n",
       "      <td>\\t2022-07-28 15:56:46</td>\n",
       "      <td>甘肃白银市会宁县杨崖集乡杨周公路杨集乡文化中心杨崖集镇杨集村村民委员会</td>\n",
       "      <td>22版一建考点教材、建筑教材 试卷全套</td>\n",
       "    </tr>\n",
       "  </tbody>\n",
       "</table>\n",
       "</div>"
      ],
      "text/plain": [
       "   客户姓名         联系电话                 付款确认时间  \\\n",
       "0  勇敢牛牛  19834497920  \\t2022-07-28 18:23:05   \n",
       "1   王维国  17361583680  \\t2022-07-28 15:56:46   \n",
       "\n",
       "                                  客户地址              商家SKUID  \n",
       "0         湖北武汉市新洲区阳逻街道金台地铁站旁中铁十七局新洲项目部  22版一建考点教材、公路教材 试卷全套  \n",
       "1  甘肃白银市会宁县杨崖集乡杨周公路杨集乡文化中心杨崖集镇杨集村村民委员会  22版一建考点教材、建筑教材 试卷全套  "
      ]
     },
     "execution_count": 8,
     "metadata": {},
     "output_type": "execute_result"
    }
   ],
   "source": [
    "dfyj\n"
   ]
  }
 ],
 "metadata": {
  "kernelspec": {
   "display_name": "Python 3 (ipykernel)",
   "language": "python",
   "name": "python3"
  },
  "language_info": {
   "codemirror_mode": {
    "name": "ipython",
    "version": 3
   },
   "file_extension": ".py",
   "mimetype": "text/x-python",
   "name": "python",
   "nbconvert_exporter": "python",
   "pygments_lexer": "ipython3",
   "version": "3.7.13"
  }
 },
 "nbformat": 4,
 "nbformat_minor": 2
}
