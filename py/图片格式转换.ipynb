{
 "cells": [
  {
   "cell_type": "code",
   "execution_count": 4,
   "id": "26bea5e0",
   "metadata": {},
   "outputs": [],
   "source": [
    "from PIL import Image\n",
    "import os"
   ]
  },
  {
   "cell_type": "code",
   "execution_count": 5,
   "id": "825ab394",
   "metadata": {},
   "outputs": [],
   "source": [
    "path ='‪D:\\\\网店图片\\\\2022一建高频主图\\\\一建场景图.png'.strip('\\u202a')"
   ]
  },
  {
   "cell_type": "code",
   "execution_count": 6,
   "id": "bb08267d",
   "metadata": {},
   "outputs": [],
   "source": [
    "p = Image.open(path)"
   ]
  },
  {
   "cell_type": "code",
   "execution_count": 7,
   "id": "8a176234",
   "metadata": {},
   "outputs": [],
   "source": [
    "p = p.convert(\"RGB\")"
   ]
  },
  {
   "cell_type": "code",
   "execution_count": 8,
   "id": "145c912f",
   "metadata": {},
   "outputs": [],
   "source": [
    "p.save(path.split('.',1)[0]+'JJ.jpg')"
   ]
  },
  {
   "cell_type": "code",
   "execution_count": 9,
   "id": "b8ab695a",
   "metadata": {},
   "outputs": [
    {
     "data": {
      "text/plain": [
       "['D:\\\\网店图片\\\\2022一建高频主图\\\\一建场景图', 'png']"
      ]
     },
     "execution_count": 9,
     "metadata": {},
     "output_type": "execute_result"
    }
   ],
   "source": [
    "path.split('.',1)"
   ]
  },
  {
   "cell_type": "code",
   "execution_count": null,
   "id": "3c952f11",
   "metadata": {},
   "outputs": [],
   "source": []
  }
 ],
 "metadata": {
  "kernelspec": {
   "display_name": "Python 3 (ipykernel)",
   "language": "python",
   "name": "python3"
  },
  "language_info": {
   "codemirror_mode": {
    "name": "ipython",
    "version": 3
   },
   "file_extension": ".py",
   "mimetype": "text/x-python",
   "name": "python",
   "nbconvert_exporter": "python",
   "pygments_lexer": "ipython3",
   "version": "3.7.13"
  }
 },
 "nbformat": 4,
 "nbformat_minor": 5
}
