{
 "cells": [
  {
   "cell_type": "code",
   "execution_count": 1,
   "id": "ed555c40",
   "metadata": {},
   "outputs": [],
   "source": [
    "import pandas as pd\n",
    "import re"
   ]
  },
  {
   "cell_type": "code",
   "execution_count": 2,
   "id": "8788f943",
   "metadata": {},
   "outputs": [],
   "source": [
    "path = '‪D:\\\\桌面\\\\7.22共165单.xlsx'.strip('\\u202a')"
   ]
  },
  {
   "cell_type": "code",
   "execution_count": 3,
   "id": "2c2aefc5",
   "metadata": {
    "scrolled": true
   },
   "outputs": [],
   "source": [
    "df = pd.read_excel(path,sheet_name=None,header=None,names=['原数据','姓名','电话','地址','类目','店名'])"
   ]
  },
  {
   "cell_type": "code",
   "execution_count": 4,
   "id": "d5668794",
   "metadata": {},
   "outputs": [],
   "source": [
    "def expand(x):\n",
    "    #识别类目\n",
    "    try:\n",
    "        if \"一建\" in x:\n",
    "            p = re.search(r'一建(.*)',x).group()\n",
    "        elif '二建' in x:\n",
    "            p = re.search(r'二建(.*)',x).group()\n",
    "        elif '二级消防' in x:\n",
    "            p = re.search(r'二级消防(.*)',x).group()\n",
    "        elif '消防' in x:\n",
    "            p = re.search(r'消防(.*)',x).group()\n",
    "        elif '护士' in x:\n",
    "            p = re.search(r'护士(.*)',x).group()\n",
    "        elif '初级' in x:\n",
    "            p = re.search(r'初级(.*)',x).group()\n",
    "        elif '中级会计' in x:\n",
    "            p = re.search(r'中级(.*)',x).group()\n",
    "        elif '中级经济师' in x:\n",
    "            p = re.search(r'中级(.*)',x).group()\n",
    "        elif '司法' in x:\n",
    "            p = re.search(r'司法(.*)',x).group()\n",
    "        elif '证券' in x:\n",
    "            p = re.search(r'证券(.*)',x).group()\n",
    "        elif '基金' in x:\n",
    "            p = re.search(r'基金(.*)',x).group()\n",
    "        elif '安全' in x:\n",
    "            p = re.search(r'中级(.*)',x).group()\n",
    "        elif \"注册会计\" in x:\n",
    "            p = re.search(r'CPA(.*)',x).group()\n",
    "        elif '造价' in x:\n",
    "            p = re.search(r'造价(.*)',x).group()\n",
    "        elif '四川' in x:\n",
    "            p = re.search(r'四川(.*)',x).group()\n",
    "        elif '广东' in x:\n",
    "            p = re.search(r'广东(.*)',x).group()\n",
    "        elif '护理学' in x:\n",
    "            p = re.search(r'护理学(.*)',x).group()\n",
    "        elif '护师' in x:\n",
    "            p = re.search(r'护师(.*)',x).group()\n",
    "\n",
    "        else:\n",
    "            return \"无法识别\"\n",
    "    except:\n",
    "        return f\"识别类目有错误无法识别在{x}\"\n",
    "    return p\n",
    "    "
   ]
  },
  {
   "cell_type": "code",
   "execution_count": 5,
   "id": "eff82787",
   "metadata": {},
   "outputs": [],
   "source": [
    "def expandz(x):\n",
    "    #去除地址中的店名和类目名\n",
    "    try:\n",
    "        if \"竹义\"in x:\n",
    "            p = re.sub(r'竹义(.*)',\"\",x)\n",
    "        elif '星辰' in x:\n",
    "            p = re.sub(r'星辰(.*)',\"\",x)\n",
    "\n",
    "        elif '易恒' in x:\n",
    "            p = re.sub(r'易恒(.*)',\"\",x)\n",
    "\n",
    "        elif '才俊' in x:\n",
    "            p = re.sub(r'才俊(.*)',\"\",x)\n",
    "\n",
    "        elif '库达' in x:\n",
    "            p = re.sub(r'库达(.*)',\"\",x)\n",
    "        else:\n",
    "            return x\n",
    "    except:\n",
    "        return f'去除地址中的店名和类目识别有错误{x}'\n",
    "    return p"
   ]
  },
  {
   "cell_type": "code",
   "execution_count": 6,
   "id": "ac0ca116",
   "metadata": {
    "scrolled": true
   },
   "outputs": [],
   "source": [
    "def expandy(x):\n",
    "    #去除地址中的店名\n",
    "    try:\n",
    "        if \"竹义\"in x:\n",
    "            p = re.sub(r'竹义图书',\"\",x)\n",
    "        elif '星辰' in x:\n",
    "            p = re.sub(r'星辰图书',\"\",x)\n",
    "\n",
    "        elif '易恒' in x:\n",
    "            p = re.sub(r'易恒图书',\"\",x)\n",
    "\n",
    "        elif '才俊' in x:\n",
    "            p = re.sub(r'才俊图书',\"\",x)\n",
    "\n",
    "        elif '库达' in x:\n",
    "            p = re.sub(r'库达图书',\"\",x)\n",
    "        else:\n",
    "            return x\n",
    "    except:\n",
    "        return f'去除地址中的店名无法识别{x}'\n",
    "    return p"
   ]
  },
  {
   "cell_type": "code",
   "execution_count": 61,
   "id": "c4c5b29c",
   "metadata": {},
   "outputs": [],
   "source": [
    "def expandname(x):\n",
    "    #去除地址中的店名\n",
    "    try:\n",
    "        if \"竹义\"in x:\n",
    "            p = '竹义图书'\n",
    "        elif '星辰' in x:\n",
    "            p = '星辰图书'\n",
    "\n",
    "        elif '易恒' in x:\n",
    "            p = '易恒图书'\n",
    "\n",
    "        elif '才俊' in x:\n",
    "            p = '才俊图书'\n",
    "\n",
    "        elif '库达' in x:\n",
    "            p = '库达图书'\n",
    "        else:\n",
    "            return '无法识别店名'\n",
    "    except:\n",
    "        return f'提取店名错误'\n",
    "    return p"
   ]
  },
  {
   "cell_type": "code",
   "execution_count": 47,
   "id": "42f59287",
   "metadata": {},
   "outputs": [],
   "source": [
    "l = list(df.keys())\n",
    "for i in l:\n",
    "    df[i]['原数据'] = df[i]['原数据'].apply(lambda x:str(x).strip())\n",
    "\n",
    "    df[i]['原数据'] = df[i]['原数据'].apply(lambda x:str(x).replace('\\n',''))\n",
    "\n",
    "    df[i]['姓名'] = df[i]['原数据'].apply(lambda x:str(x).split('1',1)[0]) \n",
    "\n",
    "    df[i]['电话'] = df[i]['原数据'].str.extract(r'(\\d{11})',expand = False)\n",
    "\n",
    "    df[i]['地址'] = df[i]['原数据'].str.extract(r'1\\d{10}(.*)',expand = False)\n",
    "\n",
    "    df[i]['类目'] = df[i]['地址'].apply(expand)\n",
    "\n",
    "    df[i]['地址'] = df[i]['地址'].apply(expandz)\n",
    "    df[i]['类目'] = df[i]['类目'].apply(expandy)\n",
    "    df[i]['店名'] = df[i]['店名'].apply(expandname)"
   ]
  },
  {
   "cell_type": "code",
   "execution_count": 48,
   "id": "8afa77c5",
   "metadata": {},
   "outputs": [],
   "source": [
    "with pd.ExcelWriter(\"d:/桌面/717修改后.xlsx\") as writer:\n",
    "    for i in l:\n",
    "        df[i].to_excel(writer,sheet_name = i,index=False)\n",
    "    "
   ]
  },
  {
   "cell_type": "code",
   "execution_count": null,
   "id": "f0e421d5",
   "metadata": {},
   "outputs": [],
   "source": []
  },
  {
   "cell_type": "code",
   "execution_count": null,
   "id": "4492fa87",
   "metadata": {
    "scrolled": true
   },
   "outputs": [],
   "source": []
  },
  {
   "cell_type": "code",
   "execution_count": null,
   "id": "25d1da0a",
   "metadata": {},
   "outputs": [],
   "source": []
  }
 ],
 "metadata": {
  "kernelspec": {
   "display_name": "Python 3 (ipykernel)",
   "language": "python",
   "name": "python3"
  },
  "language_info": {
   "codemirror_mode": {
    "name": "ipython",
    "version": 3
   },
   "file_extension": ".py",
   "mimetype": "text/x-python",
   "name": "python",
   "nbconvert_exporter": "python",
   "pygments_lexer": "ipython3",
   "version": "3.7.13"
  }
 },
 "nbformat": 4,
 "nbformat_minor": 5
}
