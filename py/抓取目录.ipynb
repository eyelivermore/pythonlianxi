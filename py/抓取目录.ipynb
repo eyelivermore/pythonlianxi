{
 "cells": [
  {
   "cell_type": "code",
   "execution_count": 3,
   "metadata": {},
   "outputs": [],
   "source": [
    "import requests \n",
    "import json\n",
    "import pandas as pd\n",
    "import urllib"
   ]
  },
  {
   "cell_type": "code",
   "execution_count": 21,
   "metadata": {},
   "outputs": [],
   "source": [
    "def dfedit(x):\n",
    "    j = json.loads(x.text)\n",
    "    df = pd.DataFrame(j['items'])\n",
    "    df = df[['key','preview_url']]\n",
    "    df.key= df.key.apply(lambda x:str(x).replace('.mp4',''))\n",
    "    df.preview_url= df.preview_url.apply(lambda x:urllib.parse.unquote(x).rstrip('\\n'))\n",
    "    return df"
   ]
  },
  {
   "cell_type": "code",
   "execution_count": 105,
   "metadata": {},
   "outputs": [],
   "source": [
    "url = \"https://portal.qiniu.com/api/kodov2/rsf/list?limit=50&marker=eyJjIjowLCJrIjoiMjAyMuS4gOe6p-W7uumAoOW4iC_lu7rorr7lt6XnqIvnu4_mtY4vMjAyMuaVmeadkOeyvuiusi80OS0xWjEwMzA3MCDorqHph4_kuI7mlK_ku5jvvIjkuIPvvIkubXA0In0=&delimiter=/&prefix=2022一级建造师/建设工程经济/2022教材精讲/&allversion=false&baseUrl=https://a.chenwenjy.cn&bucket=chenwenjy\""
   ]
  },
  {
   "cell_type": "code",
   "execution_count": 16,
   "metadata": {},
   "outputs": [],
   "source": []
  },
  {
   "cell_type": "code",
   "execution_count": 1,
   "metadata": {},
   "outputs": [],
   "source": [
    "val = \"PORTAL_VERSION=v4; AGL_USER_ID=e2b491eb-f802-4dba-972f-2caa40f0ca9d; sensorsdata2015jssdkcross=%7B%22distinct_id%22%3A%221382411527%22%2C%22first_id%22%3A%22181bd76fc82b9c-0df49f49f49f4a-26021a51-2073600-181bd76fc83bf6%22%2C%22props%22%3A%7B%22%24latest_traffic_source_type%22%3A%22%E7%9B%B4%E6%8E%A5%E6%B5%81%E9%87%8F%22%2C%22%24latest_search_keyword%22%3A%22%E6%9C%AA%E5%8F%96%E5%88%B0%E5%80%BC_%E7%9B%B4%E6%8E%A5%E6%89%93%E5%BC%80%22%2C%22%24latest_referrer%22%3A%22%22%7D%2C%22identities%22%3A%22eyIkaWRlbnRpdHlfY29va2llX2lkIjoiMTgxYmQ3NmZjODJiOWMtMGRmNDlmNDlmNDlmNGEtMjYwMjFhNTEtMjA3MzYwMC0xODFiZDc2ZmM4M2JmNiIsIiRpZGVudGl0eV9sb2dpbl9pZCI6IjEzODI0MTE1MjcifQ%3D%3D%22%2C%22history_login_id%22%3A%7B%22name%22%3A%22%24identity_login_id%22%2C%22value%22%3A%221382411527%22%7D%2C%22%24device_id%22%3A%22181bd76fc82b9c-0df49f49f49f4a-26021a51-2073600-181bd76fc83bf6%22%7D; Hm_lvt_204fcf6777f8efa834fe7c45a2336bf1=1657003429,1657092691,1658130853,1659166985; PORTAL_SESSION=UzZWM1BZMFRZWk9IQzdWMFJESzk5VFZIS1FKN0tLTFcsMTY1OTE2Njk4NDgwODQwNzcyMCxjZWZjY2YwNDhmMDIzYWJiZTU0MWUxMjU1OGU3NDk0MmY3ZDYzM2Qz; PORTAL_SESSION=UzZWM1BZMFRZWk9IQzdWMFJESzk5VFZIS1FKN0tLTFcsMTY1OTE2Njk4NDgwODQwNzcyMCxjZWZjY2YwNDhmMDIzYWJiZTU0MWUxMjU1OGU3NDk0MmY3ZDYzM2Qz; _gid=GA1.2.497467782.1659338850; _ga_JP28X22DD7=GS1.1.1659338850.1.0.1659338850.0; _ga=GA1.2.1639843954.1656741101; SSID=NTNSS0VJSU1aQ1ZNQVZJQTM1VjdFREZaUU8xUVpPRU1HNlE1QiwxNjU5NDA4MDY4Mjg2NDM5NzE2LGJkZWJmNWYzYWFhMWI0NmFhZDI0ZTczMzZlMTRmNzZhNjY3Mjc4NDk1YmY1NTI2MDIyMjgwZWY3NTE1ZmFiYzYyNzU3ZTJlZmE5OTdjMDNhM2Y1YzUxZGYyZDVmYzRhY2ZjZTBhOTZkMWViMDFhNTllZDVkZWU0MjA1NjcwNDk1; PORTAL_UID=1382411527; Hm_lpvt_204fcf6777f8efa834fe7c45a2336bf1=1659408069; _gat=1\""
   ]
  },
  {
   "cell_type": "code",
   "execution_count": 2,
   "metadata": {},
   "outputs": [],
   "source": [
    "header = {'user-agent':'Mozilla/5.0 (Windows NT 10.0; Win64; x64) AppleWebKit/537.36 (KHTML, like Gecko) Chrome/103.0.0.0 Safari/537.36',\n",
    "          \"cookie\":val}"
   ]
  },
  {
   "cell_type": "code",
   "execution_count": 106,
   "metadata": {},
   "outputs": [],
   "source": [
    "ht = requests.get(url,headers=header)"
   ]
  },
  {
   "cell_type": "code",
   "execution_count": 107,
   "metadata": {},
   "outputs": [],
   "source": [
    "df = dfedit(ht)"
   ]
  },
  {
   "cell_type": "code",
   "execution_count": 98,
   "metadata": {},
   "outputs": [],
   "source": [
    "r = df.iloc[0,0]"
   ]
  },
  {
   "cell_type": "code",
   "execution_count": 108,
   "metadata": {},
   "outputs": [],
   "source": [
    "df.key= df.key.apply(lambda x:str(x).replace(r,''))"
   ]
  },
  {
   "cell_type": "code",
   "execution_count": 109,
   "metadata": {},
   "outputs": [],
   "source": [
    "df2 = df.copy()"
   ]
  },
  {
   "cell_type": "code",
   "execution_count": 110,
   "metadata": {},
   "outputs": [],
   "source": [
    "df3 = df1.append(df2,ignore_index=True)"
   ]
  },
  {
   "cell_type": "code",
   "execution_count": 111,
   "metadata": {},
   "outputs": [],
   "source": [
    "paths = '‪D:\\\\桌面\\\\一建经济2.csv'.strip('\\u202a')"
   ]
  },
  {
   "cell_type": "code",
   "execution_count": 112,
   "metadata": {},
   "outputs": [],
   "source": [
    "df3.to_csv(paths,index = False)"
   ]
  },
  {
   "cell_type": "code",
   "execution_count": 115,
   "metadata": {},
   "outputs": [
    {
     "data": {
      "text/plain": [
       "True"
      ]
     },
     "execution_count": 115,
     "metadata": {},
     "output_type": "execute_result"
    }
   ],
   "source": []
  }
 ],
 "metadata": {
  "kernelspec": {
   "display_name": "Python 3 (ipykernel)",
   "language": "python",
   "name": "python3"
  },
  "language_info": {
   "codemirror_mode": {
    "name": "ipython",
    "version": 3
   },
   "file_extension": ".py",
   "mimetype": "text/x-python",
   "name": "python",
   "nbconvert_exporter": "python",
   "pygments_lexer": "ipython3",
   "version": "3.7.13"
  }
 },
 "nbformat": 4,
 "nbformat_minor": 2
}
