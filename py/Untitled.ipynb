{
 "cells": [
  {
   "cell_type": "code",
   "execution_count": 1,
   "id": "aa935d76",
   "metadata": {},
   "outputs": [],
   "source": [
    "import pandas as pd\n",
    "import numpy as np\n",
    "import datetime "
   ]
  },
  {
   "cell_type": "code",
   "execution_count": 11,
   "id": "8d33add5",
   "metadata": {},
   "outputs": [],
   "source": [
    "path = '‪D:\\\\桌面\\\\2022年6月份退件表.xlsx'.strip('\\u202a')"
   ]
  },
  {
   "cell_type": "code",
   "execution_count": 14,
   "id": "437bad7a",
   "metadata": {},
   "outputs": [],
   "source": [
    "df = pd.read_excel(path)"
   ]
  },
  {
   "cell_type": "code",
   "execution_count": 15,
   "id": "7e07b5af",
   "metadata": {},
   "outputs": [
    {
     "data": {
      "text/plain": [
       "Index(['日期', '快递', '快递单号', '包装内容', '电话', '订单号', '备注', 'Unnamed: 7',\n",
       "       'Unnamed: 8', 'Unnamed: 9'],\n",
       "      dtype='object')"
      ]
     },
     "execution_count": 15,
     "metadata": {},
     "output_type": "execute_result"
    }
   ],
   "source": [
    "df.columns"
   ]
  },
  {
   "cell_type": "code",
   "execution_count": 16,
   "id": "7bcc1a3c",
   "metadata": {},
   "outputs": [],
   "source": [
    "li = ['日期', '快递', '快递单号', '包装内容','订单号']"
   ]
  },
  {
   "cell_type": "code",
   "execution_count": 23,
   "id": "b07d7d5a",
   "metadata": {},
   "outputs": [],
   "source": [
    "df1 = df[li]"
   ]
  },
  {
   "cell_type": "code",
   "execution_count": 62,
   "id": "2031150c",
   "metadata": {},
   "outputs": [],
   "source": [
    "df1 = df1.drop(557)"
   ]
  },
  {
   "cell_type": "code",
   "execution_count": 81,
   "id": "a68cfd7e",
   "metadata": {},
   "outputs": [
    {
     "data": {
      "text/html": [
       "<div>\n",
       "<style scoped>\n",
       "    .dataframe tbody tr th:only-of-type {\n",
       "        vertical-align: middle;\n",
       "    }\n",
       "\n",
       "    .dataframe tbody tr th {\n",
       "        vertical-align: top;\n",
       "    }\n",
       "\n",
       "    .dataframe thead th {\n",
       "        text-align: right;\n",
       "    }\n",
       "</style>\n",
       "<table border=\"1\" class=\"dataframe\">\n",
       "  <thead>\n",
       "    <tr style=\"text-align: right;\">\n",
       "      <th></th>\n",
       "      <th>日期</th>\n",
       "      <th>快递</th>\n",
       "      <th>快递单号</th>\n",
       "      <th>包装内容</th>\n",
       "      <th>订单号</th>\n",
       "    </tr>\n",
       "  </thead>\n",
       "  <tbody>\n",
       "    <tr>\n",
       "      <th>625</th>\n",
       "      <td>2022-06-28</td>\n",
       "      <td>中中通</td>\n",
       "      <td>78278758403046</td>\n",
       "      <td>基金6本</td>\n",
       "      <td>星晨220624-258961622542680</td>\n",
       "    </tr>\n",
       "  </tbody>\n",
       "</table>\n",
       "</div>"
      ],
      "text/plain": [
       "            日期   快递            快递单号  包装内容                       订单号\n",
       "625 2022-06-28  中中通  78278758403046  基金6本  星晨220624-258961622542680"
      ]
     },
     "execution_count": 81,
     "metadata": {},
     "output_type": "execute_result"
    }
   ],
   "source": [
    "df1[df1['快递']=='中中通']"
   ]
  },
  {
   "cell_type": "code",
   "execution_count": 109,
   "id": "d3d7d8d9",
   "metadata": {},
   "outputs": [],
   "source": [
    "l = df1['快递'].value_counts()"
   ]
  },
  {
   "cell_type": "code",
   "execution_count": 126,
   "id": "0c30d9ad",
   "metadata": {},
   "outputs": [],
   "source": [
    "from matplotlib.pyplot import *"
   ]
  },
  {
   "cell_type": "code",
   "execution_count": 131,
   "id": "1c36dd61",
   "metadata": {},
   "outputs": [],
   "source": [
    "kd = pd.DataFrame(l)"
   ]
  },
  {
   "cell_type": "code",
   "execution_count": 159,
   "id": "f8ed867b",
   "metadata": {},
   "outputs": [
    {
     "data": {
      "text/plain": [
       "2022-06-28    71\n",
       "2022-06-23    64\n",
       "2022-06-25    58\n",
       "2022-06-19    44\n",
       "2022-06-18    40\n",
       "2022-06-01    31\n",
       "2022-06-21    30\n",
       "2022-06-17    29\n",
       "2022-06-15    27\n",
       "2022-06-11    22\n",
       "2022-06-02    22\n",
       "2022-06-10    22\n",
       "2022-06-09    22\n",
       "2022-06-30    21\n",
       "2022-06-12    20\n",
       "2022-06-05    19\n",
       "2022-06-07    18\n",
       "2022-06-04    18\n",
       "2022-06-29    18\n",
       "2022-06-16    14\n",
       "2022-06-20    14\n",
       "2022-06-08    13\n",
       "2022-06-13    12\n",
       "2022-06-06     9\n",
       "2022-06-24     9\n",
       "Name: 日期, dtype: int64"
      ]
     },
     "execution_count": 159,
     "metadata": {},
     "output_type": "execute_result"
    }
   ],
   "source": []
  }
 ],
 "metadata": {
  "kernelspec": {
   "display_name": "Python 3 (ipykernel)",
   "language": "python",
   "name": "python3"
  },
  "language_info": {
   "codemirror_mode": {
    "name": "ipython",
    "version": 3
   },
   "file_extension": ".py",
   "mimetype": "text/x-python",
   "name": "python",
   "nbconvert_exporter": "python",
   "pygments_lexer": "ipython3",
   "version": "3.7.13"
  }
 },
 "nbformat": 4,
 "nbformat_minor": 5
}
