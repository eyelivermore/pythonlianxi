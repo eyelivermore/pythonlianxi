{
 "cells": [
  {
   "cell_type": "code",
   "execution_count": 2,
   "metadata": {},
   "outputs": [],
   "source": [
    "url = '''https://a.chenwenjy.cn/2022%E4%BA%8C%E7%BA%A7%E5%BB%BA%E9%80%A0%E5%B8%88/%E5%BB%BA%E7%AD%91%E5%AE%9E%E5%8A%A1/%E6%95%99%E6%9D%90%E7%B2%BE%E8%AE%B2/15-2A311030-%E5%BB%BA%E7%AD%91%E6%9D%90%E6%96%99%EF%BC%88%E4%B8%89%EF%BC%89.mp4\n",
    "'''"
   ]
  },
  {
   "cell_type": "code",
   "execution_count": 19,
   "metadata": {},
   "outputs": [],
   "source": [
    "url2 = url[27:-5]"
   ]
  },
  {
   "cell_type": "code",
   "execution_count": 28,
   "metadata": {},
   "outputs": [],
   "source": [
    "url3 = '%E4%BA%8C%E7%BA%A7%E5%BB%BA%E9%80%A0%E5%B8%88/%E5%BB%BA%E7%AD%91%E5%AE%9E%E5%8A%A1/%E6%95%99%E6%9D%90%E7%B2%BE%E8%AE%B2/15-2A311030-%E5%BB%BA%E7%AD%91%E6%9D%90%E6%96%99%EF%BC%88%E4%B8%89%EF%BC%89'"
   ]
  },
  {
   "cell_type": "code",
   "execution_count": 25,
   "metadata": {},
   "outputs": [
    {
     "data": {
      "text/plain": [
       "'%E4%BA%8C%E7%BA%A7%E5%BB%BA%E9%80%A0%E5%B8%88/%E5%BB%BA%E7%AD%91%E5%AE%9E%E5%8A%A1/%E6%95%99%E6%9D%90%E7%B2%BE%E8%AE%B2/15-2A311030-%E5%BB%BA%E7%AD%91%E6%9D%90%E6%96%99%EF%BC%88%E4%B8%89%EF%BC%89'"
      ]
     },
     "execution_count": 25,
     "metadata": {},
     "output_type": "execute_result"
    }
   ],
   "source": []
  },
  {
   "cell_type": "code",
   "execution_count": 27,
   "metadata": {},
   "outputs": [],
   "source": [
    "import urllib"
   ]
  },
  {
   "cell_type": "code",
   "execution_count": 32,
   "metadata": {},
   "outputs": [
    {
     "data": {
      "text/plain": [
       "'https://a.chenwenjy.cn/2022二级建造师/建筑实务/教材精讲/15-2A311030-建筑材料（三）.mp4'"
      ]
     },
     "execution_count": 32,
     "metadata": {},
     "output_type": "execute_result"
    }
   ],
   "source": [
    "urllib.parse.unquote(url).rstrip('\\n')"
   ]
  },
  {
   "cell_type": "code",
   "execution_count": 33,
   "metadata": {},
   "outputs": [],
   "source": [
    "import pandas as pd"
   ]
  },
  {
   "cell_type": "code",
   "execution_count": 51,
   "metadata": {},
   "outputs": [],
   "source": [
    "path = '‪D:\\桌面\\上传视频建筑实务2.csv'.strip('\\u202a')"
   ]
  },
  {
   "cell_type": "code",
   "execution_count": 41,
   "metadata": {},
   "outputs": [],
   "source": [
    "df = pd.read_csv(path,engine='python')"
   ]
  },
  {
   "cell_type": "code",
   "execution_count": 44,
   "metadata": {},
   "outputs": [],
   "source": [
    "df.preview_url = df.preview_url.apply(lambda x:urllib.parse.unquote(x).rstrip('\\n'))"
   ]
  },
  {
   "cell_type": "code",
   "execution_count": 52,
   "metadata": {},
   "outputs": [],
   "source": [
    "df.to_csv(path)"
   ]
  },
  {
   "cell_type": "code",
   "execution_count": 2,
   "metadata": {},
   "outputs": [],
   "source": [
    "aa = \"D:\\讯雷下载\\2022年中级经济师《工商管理》考试大纲.pdf\""
   ]
  },
  {
   "cell_type": "code",
   "execution_count": 3,
   "metadata": {},
   "outputs": [
    {
     "data": {
      "text/plain": [
       "'D:\\\\讯雷下载\\x822年中级经济师《工商管理》考试大纲.pdf'"
      ]
     },
     "execution_count": 3,
     "metadata": {},
     "output_type": "execute_result"
    }
   ],
   "source": [
    "aa"
   ]
  }
 ],
 "metadata": {
  "kernelspec": {
   "display_name": "Python 3",
   "language": "python",
   "name": "python3"
  },
  "language_info": {
   "codemirror_mode": {
    "name": "ipython",
    "version": 3
   },
   "file_extension": ".py",
   "mimetype": "text/x-python",
   "name": "python",
   "nbconvert_exporter": "python",
   "pygments_lexer": "ipython3",
   "version": "3.7.0"
  }
 },
 "nbformat": 4,
 "nbformat_minor": 2
}
