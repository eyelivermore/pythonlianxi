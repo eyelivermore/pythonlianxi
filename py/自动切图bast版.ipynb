{
 "cells": [
  {
   "cell_type": "code",
   "execution_count": 1,
   "metadata": {},
   "outputs": [],
   "source": [
    "from PIL import Image\n",
    "import os"
   ]
  },
  {
   "cell_type": "code",
   "execution_count": 2,
   "metadata": {},
   "outputs": [],
   "source": [
    "h = '‪D:\\桌面\\长图\\一建7月长图.jpg'.strip('\\u202a')"
   ]
  },
  {
   "cell_type": "code",
   "execution_count": 3,
   "metadata": {},
   "outputs": [],
   "source": [
    "p = Image.open(h)"
   ]
  },
  {
   "cell_type": "code",
   "execution_count": 11,
   "metadata": {},
   "outputs": [],
   "source": [
    "(left, upper, right, lower) = (0, 0, 790, 790)"
   ]
  },
  {
   "cell_type": "code",
   "execution_count": 12,
   "metadata": {},
   "outputs": [],
   "source": [
    "size = p.size"
   ]
  },
  {
   "cell_type": "code",
   "execution_count": 56,
   "metadata": {},
   "outputs": [],
   "source": [
    "j = 790\n",
    "x = 0\n",
    "for i in range(0,size[1],790):\n",
    "    if (size[1]-i)>790:\n",
    "        p1 = p.crop((0,i,790,i+789))\n",
    "        p1.save(f\"‪D:\\\\桌面\\\\长图\\\\‪{x}.jpg\".strip('\\u202a'))\n",
    "    else:\n",
    "        p1 = p.crop((0,i,790,size[1]))\n",
    "        p1.save(f'‪D:\\\\桌面\\\\长图\\\\{x}.jpg'.strip(\"\\u202a\"))\n",
    "    x += 1\n",
    "        \n",
    "    "
   ]
  },
  {
   "cell_type": "code",
   "execution_count": 53,
   "metadata": {},
   "outputs": [
    {
     "name": "stdout",
     "output_type": "stream",
     "text": [
      "可以剪切第(True, 0, 0)张\n",
      "可以剪切第(True, 1, 1)张\n",
      "可以剪切第(True, 2, 2)张\n",
      "可以剪切第(True, 3, 3)张\n",
      "可以剪切第(True, 4, 4)张\n",
      "可以剪切第(True, 5, 5)张\n",
      "可以剪切第(True, 6, 6)张\n",
      "可以剪切第(True, 7, 7)张\n",
      "可以剪切第(True, 8, 8)张\n",
      "可以剪切第(True, 9, 9)张\n",
      "可以剪切第(True, 10, 10)张\n",
      "可以剪切第(True, 11, 11)张\n",
      "可以剪切第(True, 12, 12)张\n",
      "可以剪切第(True, 13, 13)张\n",
      "可以剪切第(True, 14, 14)张\n",
      "可以剪切第(True, 15, 15)张\n",
      "可以剪切第(True, 16, 16)张\n",
      "可以剪切第(True, 17, 17)张\n",
      "可以剪切第(True, 18, 18)张\n",
      "可以剪切第(True, 19, 19)张\n",
      "可以剪切第(True, 20, 20)张\n",
      "可以剪切第(True, 21, 21)张\n",
      "可以剪切第(True, 22, 22)张\n",
      "可以剪切第(True, 23, 23)张\n",
      "可以剪切第(True, 24, 24)张\n",
      "可以剪切第(True, 25, 25)张\n",
      "可以剪切第(True, 26, 26)张\n",
      "可以剪切第(True, 27, 27)张\n",
      "可以剪切第(True, 28, 28)张\n",
      "可以剪切第(True, 29, 29)张\n",
      "可以剪切第(True, 30, 30)张\n",
      "可以剪切第(True, 31, 31)张\n",
      "现在不够除了 直接到最后一行26055\n"
     ]
    }
   ],
   "source": [
    "j = 790\n",
    "x = 0\n",
    "for i in range(0,size[1],790,):\n",
    "    if (size[1]-i)>790:\n",
    "        print(f\"可以剪切第{(size[1]-i)>790,i//790,x}张\")\n",
    "        x += 1\n",
    "    else:\n",
    "        print(f\"现在不够除了 直接到最后一行{size[1]}\")"
   ]
  },
  {
   "cell_type": "code",
   "execution_count": 20,
   "metadata": {},
   "outputs": [
    {
     "data": {
      "text/plain": [
       "26055"
      ]
     },
     "execution_count": 20,
     "metadata": {},
     "output_type": "execute_result"
    }
   ],
   "source": [
    "size[1]"
   ]
  }
 ],
 "metadata": {
  "kernelspec": {
   "display_name": "Python 3 (ipykernel)",
   "language": "python",
   "name": "python3"
  },
  "language_info": {
   "codemirror_mode": {
    "name": "ipython",
    "version": 3
   },
   "file_extension": ".py",
   "mimetype": "text/x-python",
   "name": "python",
   "nbconvert_exporter": "python",
   "pygments_lexer": "ipython3",
   "version": "3.7.13"
  }
 },
 "nbformat": 4,
 "nbformat_minor": 2
}
