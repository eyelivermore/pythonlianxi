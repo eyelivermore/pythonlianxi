{
 "cells": [
  {
   "cell_type": "markdown",
   "metadata": {
    "toc": true
   },
   "source": [
    "<h1>Table of Contents<span class=\"tocSkip\"></span></h1>\n",
    "<div class=\"toc\"><ul class=\"toc-item\"></ul></div>"
   ]
  },
  {
   "cell_type": "code",
   "execution_count": 15,
   "metadata": {
    "collapsed": true
   },
   "outputs": [],
   "source": [
    "import numpy as np\n",
    "from datetime import *"
   ]
  },
  {
   "cell_type": "code",
   "execution_count": 10,
   "metadata": {},
   "outputs": [
    {
     "data": {
      "text/plain": [
       "array([0., 0., 0., 0., 0., 0., 0., 0., 0., 0.])"
      ]
     },
     "execution_count": 10,
     "metadata": {},
     "output_type": "execute_result"
    }
   ],
   "source": [
    "nf = np.zeros((10))\n",
    "nf"
   ]
  },
  {
   "cell_type": "code",
   "execution_count": 12,
   "metadata": {
    "scrolled": true
   },
   "outputs": [
    {
     "name": "stdout",
     "output_type": "stream",
     "text": [
      "[0. 0. 0. 0. 0. 2. 4. 6. 8. 2.]\n",
      "[0. 0. 0. 0. 2. 4. 6. 8. 2. 4.]\n",
      "[0. 0. 0. 2. 4. 6. 8. 2. 4. 6.]\n",
      "[0. 0. 2. 4. 6. 8. 2. 4. 6. 8.]\n",
      "[ 0.  2.  4.  6.  8.  2.  4.  6.  8. 10.]\n",
      "[ 2.  4.  6.  8.  2.  4.  6.  8. 10. 12.]\n",
      "[ 4.  6.  8.  2.  4.  6.  8. 10. 12. 14.]\n",
      "[ 6.  8.  2.  4.  6.  8. 10. 12. 14. 16.]\n",
      "[ 8.  2.  4.  6.  8. 10. 12. 14. 16. 18.]\n",
      "[ 2.  4.  6.  8. 10. 12. 14. 16. 18. 20.]\n",
      "[ 4.  6.  8. 10. 12. 14. 16. 18. 20. 22.]\n",
      "[ 6.  8. 10. 12. 14. 16. 18. 20. 22. 24.]\n",
      "[ 8. 10. 12. 14. 16. 18. 20. 22. 24. 26.]\n",
      "[10. 12. 14. 16. 18. 20. 22. 24. 26. 28.]\n",
      "[12. 14. 16. 18. 20. 22. 24. 26. 28. 30.]\n",
      "[14. 16. 18. 20. 22. 24. 26. 28. 30. 32.]\n",
      "[16. 18. 20. 22. 24. 26. 28. 30. 32. 34.]\n",
      "[18. 20. 22. 24. 26. 28. 30. 32. 34. 36.]\n",
      "[20. 22. 24. 26. 28. 30. 32. 34. 36. 38.]\n",
      "[22. 24. 26. 28. 30. 32. 34. 36. 38. 40.]\n",
      "[24. 26. 28. 30. 32. 34. 36. 38. 40. 42.]\n",
      "[26. 28. 30. 32. 34. 36. 38. 40. 42. 44.]\n",
      "[28. 30. 32. 34. 36. 38. 40. 42. 44. 46.]\n",
      "[30. 32. 34. 36. 38. 40. 42. 44. 46. 48.]\n",
      "[32. 34. 36. 38. 40. 42. 44. 46. 48. 50.]\n",
      "[34. 36. 38. 40. 42. 44. 46. 48. 50. 52.]\n",
      "[36. 38. 40. 42. 44. 46. 48. 50. 52. 54.]\n",
      "[38. 40. 42. 44. 46. 48. 50. 52. 54. 56.]\n",
      "[40. 42. 44. 46. 48. 50. 52. 54. 56. 58.]\n",
      "[42. 44. 46. 48. 50. 52. 54. 56. 58. 60.]\n",
      "[44. 46. 48. 50. 52. 54. 56. 58. 60. 62.]\n",
      "[46. 48. 50. 52. 54. 56. 58. 60. 62. 64.]\n",
      "[48. 50. 52. 54. 56. 58. 60. 62. 64. 66.]\n",
      "[50. 52. 54. 56. 58. 60. 62. 64. 66. 68.]\n",
      "[52. 54. 56. 58. 60. 62. 64. 66. 68. 70.]\n",
      "[54. 56. 58. 60. 62. 64. 66. 68. 70. 72.]\n",
      "[56. 58. 60. 62. 64. 66. 68. 70. 72. 74.]\n",
      "[58. 60. 62. 64. 66. 68. 70. 72. 74. 76.]\n",
      "[60. 62. 64. 66. 68. 70. 72. 74. 76. 78.]\n",
      "[62. 64. 66. 68. 70. 72. 74. 76. 78. 80.]\n",
      "[64. 66. 68. 70. 72. 74. 76. 78. 80. 82.]\n",
      "[66. 68. 70. 72. 74. 76. 78. 80. 82. 84.]\n",
      "[68. 70. 72. 74. 76. 78. 80. 82. 84. 86.]\n",
      "[70. 72. 74. 76. 78. 80. 82. 84. 86. 88.]\n",
      "[72. 74. 76. 78. 80. 82. 84. 86. 88. 90.]\n",
      "[74. 76. 78. 80. 82. 84. 86. 88. 90. 92.]\n",
      "[76. 78. 80. 82. 84. 86. 88. 90. 92. 94.]\n",
      "[78. 80. 82. 84. 86. 88. 90. 92. 94. 96.]\n",
      "[80. 82. 84. 86. 88. 90. 92. 94. 96. 98.]\n"
     ]
    }
   ],
   "source": [
    "for n in range(2,100,2):\n",
    "    nf[0:9]=nf[1:10]\n",
    "    nf[-1] = n\n",
    "    print(nf)"
   ]
  },
  {
   "cell_type": "code",
   "execution_count": 8,
   "metadata": {},
   "outputs": [
    {
     "data": {
      "text/plain": [
       "array([ 2,  3,  4,  5,  6,  7,  8,  9, 10, 10])"
      ]
     },
     "execution_count": 8,
     "metadata": {},
     "output_type": "execute_result"
    }
   ],
   "source": [
    "nf\n"
   ]
  },
  {
   "cell_type": "code",
   "execution_count": 16,
   "metadata": {},
   "outputs": [],
   "source": [
    "today = datetime.now().date()"
   ]
  },
  {
   "cell_type": "code",
   "execution_count": 21,
   "metadata": {},
   "outputs": [],
   "source": [
    "startDate = (today - timedelta(10)).strftime('%Y-%m-%d')  "
   ]
  },
  {
   "cell_type": "code",
   "execution_count": 27,
   "metadata": {},
   "outputs": [
    {
     "data": {
      "text/plain": [
       "datetime.date(2018, 8, 7)"
      ]
     },
     "execution_count": 27,
     "metadata": {},
     "output_type": "execute_result"
    }
   ],
   "source": [
    "ss =today- timedelta(10)\n",
    "ss"
   ]
  },
  {
   "cell_type": "code",
   "execution_count": 34,
   "metadata": {},
   "outputs": [
    {
     "name": "stdout",
     "output_type": "stream",
     "text": [
      "ss = True\n"
     ]
    }
   ],
   "source": [
    "a = -1\n",
    "if a:\n",
    "    print(\"ss = True\")\n",
    "else:\n",
    "    ss = False\n",
    "    print('ss = False')\n",
    "    "
   ]
  }
 ],
 "metadata": {
  "kernelspec": {
   "display_name": "Python 3",
   "language": "python",
   "name": "python3"
  },
  "language_info": {
   "codemirror_mode": {
    "name": "ipython",
    "version": 3
   },
   "file_extension": ".py",
   "mimetype": "text/x-python",
   "name": "python",
   "nbconvert_exporter": "python",
   "pygments_lexer": "ipython3",
   "version": "3.6.2"
  },
  "toc": {
   "base_numbering": 1,
   "nav_menu": {},
   "number_sections": false,
   "sideBar": true,
   "skip_h1_title": true,
   "title_cell": "Table of Contents",
   "title_sidebar": "Contents",
   "toc_cell": true,
   "toc_position": {},
   "toc_section_display": true,
   "toc_window_display": false
  }
 },
 "nbformat": 4,
 "nbformat_minor": 2
}
