{
 "cells": [
  {
   "cell_type": "code",
   "execution_count": 17,
   "metadata": {
    "collapsed": true
   },
   "outputs": [],
   "source": [
    "\n",
    "\n",
    "def get_html(url):\n",
    "    try:\n",
    "        r = requests.get(url,timeout=30)\n",
    "        r.raise_for_status()\n",
    "        r.encoding=\"utf-8\"\n",
    "        return r.text\n",
    "    except:\n",
    "        return \"ERROR\""
   ]
  },
  {
   "cell_type": "code",
   "execution_count": 18,
   "metadata": {},
   "outputs": [],
   "source": [
    "def get_content(url):\n",
    "    html = get_html(url)\n",
    "    soup = BeautifulSoup(html,'lxml')\n",
    "    match_list = soup.find_all('div',attrs = {'class':'matchmain bisai_qukuai'})\n",
    "    for match in match_list:\n",
    "        time = match.find('div',attrs = {\"class\":\"whenm\"}).text.strip()\n",
    "        teamname = match.find_all('span',attrs = {'class':'team_name'})\n",
    "        if teamname[0].string[0:3] == 'php':\n",
    "            team1_name = \"没有名字\"\n",
    "        else:\n",
    "            team1_name = teamname[0].string\n",
    "        team1_sopport_level = match.find('span',class_=\"team_number_green\").string\n",
    "        team2_name = teamname[1].string\n",
    "        team2_sopport_level = match.find('span',class_=\"team_number_red\").string\n",
    "        \n",
    "        print('比赛时间:{}\\n  战队一:{}  胜率:{}\\n   战队二:{}  胜率:{} '.format(time,team1_name,team1_sopport_level,\n",
    "                                                                  team2_name,team2_sopport_level))\n",
    "                                                              "
   ]
  },
  {
   "cell_type": "code",
   "execution_count": 19,
   "metadata": {},
   "outputs": [
    {
     "name": "stdout",
     "output_type": "stream",
     "text": [
      "比赛时间:2014-09-09 14:45:57 截止\n",
      "  战队一:没有名字  胜率:39%\n",
      "   战队二:Newbee  胜率:61% \n",
      "比赛时间:2014-10-14 07:54:51 截止\n",
      "  战队一:没有名字  胜率:39%\n",
      "   战队二:Newbee  胜率:61% \n",
      "比赛时间:3小时-后截止\n",
      "  战队一:PR战队  胜率:39%\n",
      "   战队二:Empire  胜率:61% \n",
      "比赛时间:比赛延时\n",
      "  战队一:PR战队  胜率:39%\n",
      "   战队二:Empire  胜率:61% \n",
      "比赛时间:比赛因故取消\n",
      "  战队一:PR战队  胜率:39%\n",
      "   战队二:Empire  胜率:61% \n",
      "比赛时间:比赛结束，  比分：X：X，A队获胜。\n",
      "  战队一:PR战队  胜率:39%\n",
      "   战队二:Empire  胜率:61% \n",
      "比赛时间:3小时-后截止\n",
      "  战队一:PR战队  胜率:39%\n",
      "   战队二:Empire  胜率:61% \n",
      "比赛时间:比赛延时\n",
      "  战队一:PR战队  胜率:39%\n",
      "   战队二:Empire  胜率:61% \n",
      "比赛时间:3小时-后截止\n",
      "  战队一:PR战队  胜率:39%\n",
      "   战队二:Empire  胜率:61% \n",
      "比赛时间:比赛延时\n",
      "  战队一:PR战队  胜率:39%\n",
      "   战队二:Empire  胜率:61% \n"
     ]
    }
   ],
   "source": [
    "import requests\n",
    "from bs4 import BeautifulSoup\n",
    "def main():\n",
    "    url = 'http://dota2bocai.com/match'\n",
    "    get_content(url)\n",
    "  \n",
    "if __name__ == '__main__':\n",
    "    main()"
   ]
  }
 ],
 "metadata": {
  "kernelspec": {
   "display_name": "Python 3",
   "language": "python",
   "name": "python3"
  },
  "language_info": {
   "codemirror_mode": {
    "name": "ipython",
    "version": 3
   },
   "file_extension": ".py",
   "mimetype": "text/x-python",
   "name": "python",
   "nbconvert_exporter": "python",
   "pygments_lexer": "ipython3",
   "version": "3.6.3"
  }
 },
 "nbformat": 4,
 "nbformat_minor": 2
}
