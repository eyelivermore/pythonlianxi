{
 "cells": [
  {
   "cell_type": "code",
   "execution_count": 1,
   "metadata": {
    "collapsed": true
   },
   "outputs": [],
   "source": [
    "import futuquant as ft\n",
    "import pandas as pd\n",
    "import numpy as np\n",
    "\n"
   ]
  },
  {
   "cell_type": "code",
   "execution_count": 2,
   "metadata": {
    "collapsed": true
   },
   "outputs": [],
   "source": [
    "def codeshu():#找到熊证\n",
    "    RET_OK = 0\n",
    "    ok,kz= quote_ctx.get_stock_basicinfo(ft.Market.HK, ft.SecurityType.WARRANT) \n",
    "    if ok != RET_OK:\n",
    "        print('股票基本信息返回的错误',kz)\n",
    "    else:\n",
    "        dm = kz[(kz.stock_owner =='HK.800000')&(kz.stock_child_type=='BEAR')].code.copy()\n",
    "        print('总共有',len(dm),'熊证')\n",
    "        list(dm)\n",
    "        print(type(dm))\n",
    "        return list(dm)\n"
   ]
  },
  {
   "cell_type": "code",
   "execution_count": 3,
   "metadata": {
    "collapsed": true
   },
   "outputs": [],
   "source": [
    "def dircode(quote_ctx,code,cj):#找到大于200,150的,i指的是差价\n",
    "    ret,data = quote_ctx.get_market_snapshot(code)#市场快照\n",
    "    datas = data[(data.wrt_strike_price - data.wrt_recovery_price == cj)\\\n",
    "                            &(data.suspension == False)&(data.wrt_conversion_ratio==10000.0)]\\\n",
    "                            .loc[:,['code','last_price',\\\n",
    "                            'wrt_strike_price','wrt_recovery_price','wrt_conversion_ratio']].copy()\n",
    "    return datas"
   ]
  },
  {
   "cell_type": "code",
   "execution_count": 6,
   "metadata": {
    "scrolled": false
   },
   "outputs": [
    {
     "name": "stderr",
     "output_type": "stream",
     "text": [
      "2018-07-26 09:32:37,162 [open_context_base.py] _socket_reconnect_and_wait_ready:289:  enter ...\n",
      "2018-07-26 09:32:37,165 [sync_network_manager.py] reconnect:65:  ****\n",
      "2018-07-26 09:32:37,167 [sync_network_manager.py] _socket_create_and_loop_connect:154: ***\n",
      "2018-07-26 09:32:37,168 [open_context_base.py] notify_sync_socket_connected:367: sync socket init_connect\n",
      "2018-07-26 09:32:37,190 [open_context_base.py] _sync_init_connect:77: sync socket init_connect ok: {'server_version': 101, 'login_user_id': 1371425, 'conn_id': 5942193835875211972, 'conn_key': 'C59ADB85CFEA7649', 'keep_alive_interval': 10}\n",
      "2018-07-26 09:32:37,212 [open_context_base.py] on_async_init_connect:93: async init connect ret=0, msg=, conn_info={'server_version': 101, 'login_user_id': 1371425, 'conn_id': 17399353486929201479, 'conn_key': '4189DE85CFEC76E9', 'keep_alive_interval': 10}\n",
      "2018-07-26 09:32:37,234 [open_quote_context.py] on_api_socket_reconnected:90: reconnect subscribe all code_count=0 ret_code=0 ret_msg=\n"
     ]
    },
    {
     "name": "stdout",
     "output_type": "stream",
     "text": [
      "总共有 946 熊证\n",
      "<class 'pandas.core.series.Series'>\n",
      "0\n",
      "200\n",
      "400\n",
      "600\n",
      "800\n"
     ]
    }
   ],
   "source": [
    "quote_ctx = ft.OpenQuoteContext(host='127.0.0.1', port=11111)\n",
    "#加收价与行驶价的差价\n",
    "chajia = 200\n",
    "df = pd.DataFrame(columns = [])\n",
    "ls = codeshu()\n",
    "for i in range(0,len(ls),200):\n",
    "    print(i)\n",
    "    aa = dircode(quote_ctx,code=ls[i:i+199],cj=chajia)\n",
    "    df = df.append(aa.copy())\n",
    "df.columns = ['代码','价格','行使价','回收价','换股比例']\n",
    "df = df[df['价格']>0]\n",
    "#print(df.sort_values(by='价格'),'\\n',len(df),type(df))\n",
    "quote_ctx.close()"
   ]
  },
  {
   "cell_type": "code",
   "execution_count": 7,
   "metadata": {
    "scrolled": true
   },
   "outputs": [
    {
     "data": {
      "text/html": [
       "<div>\n",
       "<style scoped>\n",
       "    .dataframe tbody tr th:only-of-type {\n",
       "        vertical-align: middle;\n",
       "    }\n",
       "\n",
       "    .dataframe tbody tr th {\n",
       "        vertical-align: top;\n",
       "    }\n",
       "\n",
       "    .dataframe thead th {\n",
       "        text-align: right;\n",
       "    }\n",
       "</style>\n",
       "<table border=\"1\" class=\"dataframe\">\n",
       "  <thead>\n",
       "    <tr style=\"text-align: right;\">\n",
       "      <th></th>\n",
       "      <th>代码</th>\n",
       "      <th>价格</th>\n",
       "      <th>行使价</th>\n",
       "      <th>回收价</th>\n",
       "      <th>换股比例</th>\n",
       "    </tr>\n",
       "  </thead>\n",
       "  <tbody>\n",
       "    <tr>\n",
       "      <th>175</th>\n",
       "      <td>HK.58812</td>\n",
       "      <td>0.285</td>\n",
       "      <td>31848.0</td>\n",
       "      <td>31648.0</td>\n",
       "      <td>10000.0</td>\n",
       "    </tr>\n",
       "    <tr>\n",
       "      <th>146</th>\n",
       "      <td>HK.62912</td>\n",
       "      <td>0.370</td>\n",
       "      <td>32600.0</td>\n",
       "      <td>32400.0</td>\n",
       "      <td>10000.0</td>\n",
       "    </tr>\n",
       "    <tr>\n",
       "      <th>5</th>\n",
       "      <td>HK.60135</td>\n",
       "      <td>0.470</td>\n",
       "      <td>33700.0</td>\n",
       "      <td>33500.0</td>\n",
       "      <td>10000.0</td>\n",
       "    </tr>\n",
       "    <tr>\n",
       "      <th>23</th>\n",
       "      <td>HK.66938</td>\n",
       "      <td>0.480</td>\n",
       "      <td>33800.0</td>\n",
       "      <td>33600.0</td>\n",
       "      <td>10000.0</td>\n",
       "    </tr>\n",
       "    <tr>\n",
       "      <th>24</th>\n",
       "      <td>HK.66942</td>\n",
       "      <td>0.490</td>\n",
       "      <td>33900.0</td>\n",
       "      <td>33700.0</td>\n",
       "      <td>10000.0</td>\n",
       "    </tr>\n",
       "    <tr>\n",
       "      <th>16</th>\n",
       "      <td>HK.63428</td>\n",
       "      <td>0.500</td>\n",
       "      <td>34000.0</td>\n",
       "      <td>33800.0</td>\n",
       "      <td>10000.0</td>\n",
       "    </tr>\n",
       "    <tr>\n",
       "      <th>6</th>\n",
       "      <td>HK.60136</td>\n",
       "      <td>0.520</td>\n",
       "      <td>34200.0</td>\n",
       "      <td>34000.0</td>\n",
       "      <td>10000.0</td>\n",
       "    </tr>\n",
       "  </tbody>\n",
       "</table>\n",
       "</div>"
      ],
      "text/plain": [
       "           代码     价格      行使价      回收价     换股比例\n",
       "175  HK.58812  0.285  31848.0  31648.0  10000.0\n",
       "146  HK.62912  0.370  32600.0  32400.0  10000.0\n",
       "5    HK.60135  0.470  33700.0  33500.0  10000.0\n",
       "23   HK.66938  0.480  33800.0  33600.0  10000.0\n",
       "24   HK.66942  0.490  33900.0  33700.0  10000.0\n",
       "16   HK.63428  0.500  34000.0  33800.0  10000.0\n",
       "6    HK.60136  0.520  34200.0  34000.0  10000.0"
      ]
     },
     "execution_count": 7,
     "metadata": {},
     "output_type": "execute_result"
    }
   ],
   "source": [
    "df.sort_values(by='价格')"
   ]
  }
 ],
 "metadata": {
  "kernelspec": {
   "display_name": "Python 3",
   "language": "python",
   "name": "python3"
  },
  "language_info": {
   "codemirror_mode": {
    "name": "ipython",
    "version": 3
   },
   "file_extension": ".py",
   "mimetype": "text/x-python",
   "name": "python",
   "nbconvert_exporter": "python",
   "pygments_lexer": "ipython3",
   "version": "3.6.2"
  },
  "toc": {
   "base_numbering": 1,
   "nav_menu": {},
   "number_sections": true,
   "sideBar": true,
   "skip_h1_title": false,
   "title_cell": "Table of Contents",
   "title_sidebar": "Contents",
   "toc_cell": false,
   "toc_position": {},
   "toc_section_display": true,
   "toc_window_display": false
  }
 },
 "nbformat": 4,
 "nbformat_minor": 1
}
