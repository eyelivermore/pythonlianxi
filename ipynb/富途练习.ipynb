{
 "cells": [
  {
   "cell_type": "code",
   "execution_count": 1,
   "metadata": {
    "collapsed": true
   },
   "outputs": [],
   "source": [
    "import pandas as pd\n",
    "import tushare as ts\n",
    "import numpy as np\n",
    "import futuquant as ft\n",
    "import time\n",
    "import matplotlib.pyplot as plt\n",
    "import talib as tb"
   ]
  },
  {
   "cell_type": "code",
   "execution_count": 2,
   "metadata": {},
   "outputs": [
    {
     "name": "stderr",
     "output_type": "stream",
     "text": [
      "2018-08-30 09:45:24,112 [open_context_base.py] _socket_reconnect_and_wait_ready:205: Start connecting: host=127.0.0.1; port=11111;\n",
      "2018-08-30 09:45:24,126 [open_context_base.py] _socket_reconnect_and_wait_ready:208: try connecting: host=127.0.0.1; port=11111;\n",
      "2018-08-30 09:45:24,158 [open_context_base.py] _handle_init_connect:367: sync socket init_connect ok: {'server_version': 102, 'login_user_id': 1371425, 'conn_id': 17387538152736393287, 'conn_key': '418867A8D3F24CE9', 'keep_alive_interval': 10}\n"
     ]
    },
    {
     "name": "stdout",
     "output_type": "stream",
     "text": [
      "                         0\n",
      "股票代码              HK.63059\n",
      "更新日期   2018-08-30 09:42:50\n",
      "最新价格                 0.275\n",
      "今日开盘                  0.25\n",
      "最高价格                  0.28\n",
      "最低价格                 0.244\n",
      "星月收盘价                0.265\n",
      "成交数量              12990000\n",
      "成交金额           3.37055e+06\n",
      "换手率                 16.238\n",
      "是否停牌                 False\n",
      "上市日期            2018-07-19\n",
      "流通市值                     0\n",
      "总市值                      0\n",
      "是否窝轮                  True\n",
      "换股比例                   100\n",
      "窝轮类型                  BEAR\n",
      "行驶价格                   386\n",
      "窝轮到期            2018-11-15\n",
      "窝轮最后            2018-11-14\n",
      "窝轮正股              HK.00700\n",
      "加收价                  383.2\n",
      "街货量               28383999\n",
      "窝轮发行量             80000000\n",
      "街货占比                35.479\n",
      "窝轮对冲                     0\n",
      "引申波幅                     0\n",
      "窝轮溢价                  0.25\n",
      "每手股数                 10000\n",
      "发行股本                     0\n",
      "资产净值                     0\n",
      "净利润                      0\n",
      "每股盈利                     0\n",
      "流通股本                     0\n",
      "每股净资产                    0\n",
      "收益率                      0\n",
      "市盈率                      0\n",
      "市净率                      0\n",
      "摆盘价差                 0.005\n"
     ]
    }
   ],
   "source": [
    "quote_ctx = ft.OpenQuoteContext(host='127.0.0.1', port=11111)\n",
    "ret,data = quote_ctx.get_market_snapshot('HK.63059')\n",
    "data.columns=['股票代码','更新日期','最新价格','今日开盘','最高价格',\n",
    "             '最低价格','星月收盘价','成交数量','成交金额','换手率',\n",
    "             '是否停牌','上市日期','流通市值','总市值','是否窝轮',\n",
    "              '换股比例','窝轮类型','行驶价格','窝轮到期','窝轮最后',\n",
    "              '窝轮正股','加收价','街货量','窝轮发行量','街货占比',\n",
    "             '窝轮对冲','引申波幅','窝轮溢价','每手股数','发行股本',\n",
    "             '资产净值','净利润','每股盈利','流通股本','每股净资产',\n",
    "             '收益率','市盈率','市净率','摆盘价差']\n",
    "        \n",
    "print(data.T)\n",
    "\n",
    "quote_ctx.close()\n",
    "\n"
   ]
  },
  {
   "cell_type": "code",
   "execution_count": 3,
   "metadata": {
    "scrolled": false
   },
   "outputs": [
    {
     "name": "stderr",
     "output_type": "stream",
     "text": [
      "2018-08-30 09:45:24,622 [open_context_base.py] _socket_reconnect_and_wait_ready:205: Start connecting: host=127.0.0.1; port=11111;\n",
      "2018-08-30 09:45:24,623 [open_context_base.py] _socket_reconnect_and_wait_ready:208: try connecting: host=127.0.0.1; port=11111;\n",
      "2018-08-30 09:45:24,672 [open_context_base.py] _handle_init_connect:367: sync socket init_connect ok: {'server_version': 102, 'login_user_id': 1371425, 'conn_id': 12919969521416086786, 'conn_key': '0625E1A8D3F44CDB', 'keep_alive_interval': 10}\n"
     ]
    }
   ],
   "source": [
    "quote_ctx = ft.OpenQuoteContext(host='127.0.0.1', port=11111)"
   ]
  },
  {
   "cell_type": "code",
   "execution_count": 4,
   "metadata": {},
   "outputs": [
    {
     "data": {
      "text/plain": [
       "(0,\n",
       " {'market_sz': 'MORNING',\n",
       "  'market_us': 'AFTER_HOURS_END',\n",
       "  'market_sh': 'MORNING',\n",
       "  'market_hk': 'MORNING',\n",
       "  'market_hkfuture': 'FUTURE_DAY_OPEN',\n",
       "  'server_ver': '102',\n",
       "  'trd_logined': '1',\n",
       "  'timestamp': '1535593526',\n",
       "  'qot_logined': '1',\n",
       "  'local_timestamp': 1535593524.853213})"
      ]
     },
     "execution_count": 4,
     "metadata": {},
     "output_type": "execute_result"
    }
   ],
   "source": [
    "quote_ctx.get_global_state()"
   ]
  }
 ],
 "metadata": {
  "kernelspec": {
   "display_name": "Python [conda env:python3]",
   "language": "python",
   "name": "conda-env-python3-py"
  },
  "language_info": {
   "codemirror_mode": {
    "name": "ipython",
    "version": 3
   },
   "file_extension": ".py",
   "mimetype": "text/x-python",
   "name": "python",
   "nbconvert_exporter": "python",
   "pygments_lexer": "ipython3",
   "version": "3.6.2"
  },
  "toc": {
   "base_numbering": 1,
   "nav_menu": {
    "height": "142px",
    "width": "160px"
   },
   "number_sections": true,
   "sideBar": true,
   "skip_h1_title": false,
   "title_cell": "Table of Contents",
   "title_sidebar": "Contents",
   "toc_cell": false,
   "toc_position": {
    "height": "calc(100% - 180px)",
    "left": "10px",
    "top": "150px",
    "width": "165px"
   },
   "toc_section_display": true,
   "toc_window_display": false
  }
 },
 "nbformat": 4,
 "nbformat_minor": 2
}
