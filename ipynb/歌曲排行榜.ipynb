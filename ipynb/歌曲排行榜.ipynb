{
 "cells": [
  {
   "cell_type": "code",
   "execution_count": 57,
   "metadata": {
    "collapsed": true
   },
   "outputs": [],
   "source": [
    "import requests\n",
    "from bs4 import BeautifulSoup"
   ]
  },
  {
   "cell_type": "code",
   "execution_count": 58,
   "metadata": {
    "collapsed": true
   },
   "outputs": [],
   "source": [
    "def get_url(url):\n",
    "    heade = {'user-agent':'Mozilla/5.0 (compatible; MSIE 9.0; Windows NT 6.1; Trident/5.0;'}\n",
    "    r = requests.get(url,timeout=30,headers = heade)\n",
    "    return r.text"
   ]
  },
  {
   "cell_type": "code",
   "execution_count": 59,
   "metadata": {
    "collapsed": true
   },
   "outputs": [],
   "source": [
    "def get_content(url):\n",
    "    html = get_url(url)\n",
    "    soup = BeautifulSoup(html,'lxml')\n",
    "    gequ_list = soup.find('ul',class_=\"area_three area_list\")\n",
    "    gequ = gequ_list.find_all('li')\n",
    "\n",
    "    for pai in gequ:\n",
    "        paiming = pai.find(\"div\",class_=\"top_num\").text\n",
    "        try:\n",
    "            fenshu = pai.find(\"h3\",class_=\"asc_score\").text\n",
    "        except:\n",
    "            fenshu = pai.find(\"h3\",class_=\"desc_score\").text\n",
    "        ge_name = pai.find('a',class_=\"mvname\").text\n",
    "        time = pai.find('p',class_=\"c9\").text\n",
    "        yanchang = pai.find('a',class_=\"special\").text\n",
    "        with open('D:/python练习/pepo/歌曲.txt','a+',encoding='utf-8') as f:\n",
    "            f.write(\"分数:{}, 排名:{}, 歌名{} ,{} \\t演唱:{} \\n\".format(fenshu,paiming,ge_name,time,yanchang))\n",
    "        print(\"分数:{}, 排名:{}, 歌名{} ,{} ,演唱:{} \".format(fenshu,paiming,ge_name,time,yanchang))\n",
    "    "
   ]
  },
  {
   "cell_type": "code",
   "execution_count": 60,
   "metadata": {
    "collapsed": false
   },
   "outputs": [
    {
     "name": "stdout",
     "output_type": "stream",
     "text": [
      "分数:96.47, 排名:01, 歌名像风一样 官方版 ,发布时间：2018-01-18 ,演唱:薛之谦 \n",
      "分数:90.57, 排名:02, 歌名橙色天空 官方版 ,发布时间：2018-02-08 ,演唱:许魏洲 \n",
      "分数:88.61, 排名:03, 歌名迷宫 电影《移动迷宫3:死亡解药》推广曲 ,发布时间：2018-01-24 ,演唱:许魏洲 \n",
      "分数:85.12, 排名:04, 歌名因为有你 官方版 ,发布时间：2018-01-17 ,演唱:王博文 \n",
      "分数:73.69, 排名:05, 歌名Mad Love 官方版 ,发布时间：2018-01-26 ,演唱:MIC男团 \n",
      "分数:70.39, 排名:06, 歌名将军令 官方版 ,发布时间：2018-02-06 ,演唱:七朵组合 \n",
      "分数:65.89, 排名:07, 歌名郭源潮 官方版 ,发布时间：2018-03-05 ,演唱:宋冬野 \n",
      "分数:57.78, 排名:08, 歌名如歌 电视剧《烈火如歌》主题曲 ,发布时间：2018-02-23 ,演唱:张杰 \n",
      "分数:54.79, 排名:09, 歌名不染 电视剧《香蜜沉沉烬如霜》主题曲 ,发布时间：2018-02-12 ,演唱:毛不易 \n",
      "分数:52.22, 排名:10, 歌名无所畏惧 电影《麦兵兵之夺宝联“萌”》宣传曲 ,发布时间：2018-01-25 ,演唱:袁娅维 \n",
      "分数:49.25, 排名:11, 歌名摇滚唐人街 电影《唐人街探案2》推广曲 ,发布时间：2018-03-01 ,演唱:汪苏泷 \n",
      "分数:47.75, 排名:12, 歌名很久以后 电视剧《单恋大作战》片尾曲 ,发布时间：2018-03-02 ,演唱:金玟岐 \n",
      "分数:44.53, 排名:13, 歌名粉红色的回忆 电影《唐人街探案2》拜年歌 ,发布时间：2018-02-01 ,演唱:王宝强 \n",
      "分数:43.51, 排名:14, 歌名这个年纪  官方版 ,发布时间：2018-02-12 ,演唱:齐一 \n",
      "分数:39.02, 排名:15, 歌名世上只有爸爸好 电影《熊出没·变形记》片尾曲 ,发布时间：2018-02-12 ,演唱:赵英俊 \n",
      "分数:38.79, 排名:16, 歌名漂亮重要吗 电影《祖宗十九代》主题曲 ,发布时间：2018-02-09 ,演唱:岳云鹏 \n",
      "分数:38.35, 排名:17, 歌名Beggar 官方版 ,发布时间：2018-01-31 ,演唱:黄子韬 \n",
      "分数:37.76, 排名:18, 歌名像小时候一样 电影《熊出没·变形记》主题曲 ,发布时间：2018-02-08 ,演唱:郁可唯 \n",
      "分数:36.53, 排名:19, 歌名军港之夜 电影《红海行动》致敬海军 ,发布时间：2018-01-25 ,演唱:宋玺 \n",
      "分数:33.61, 排名:20, 歌名十九岁 官方版 ,发布时间：2018-01-19 ,演唱:赵雷 \n"
     ]
    }
   ],
   "source": [
    "url = 'http://vchart.yinyuetai.com/vchart/trends?area=ML'\n",
    "def main():\n",
    "    get_content(url)\n",
    "    \n",
    "if __name__=='__main__':\n",
    "    main()\n",
    "    "
   ]
  }
 ],
 "metadata": {
  "kernelspec": {
   "display_name": "Python3",
   "language": "python",
   "name": "python3"
  },
  "language_info": {
   "codemirror_mode": {
    "name": "ipython",
    "version": 2
   },
   "file_extension": ".py",
   "mimetype": "text/x-python",
   "name": "python",
   "nbconvert_exporter": "python",
   "pygments_lexer": "ipython2",
   "version": "2.7.13"
  }
 },
 "nbformat": 4,
 "nbformat_minor": 2
}
