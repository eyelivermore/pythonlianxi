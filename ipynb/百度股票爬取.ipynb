{
 "cells": [
  {
   "cell_type": "code",
   "execution_count": 32,
   "metadata": {
    "collapsed": false
   },
   "outputs": [],
   "source": [
    "import requests\n",
    "from bs4 import BeautifulSoup\n",
    "import re\n",
    "import pandas as pd\n"
   ]
  },
  {
   "cell_type": "code",
   "execution_count": 51,
   "metadata": {
    "collapsed": false
   },
   "outputs": [
    {
     "name": "stdout",
     "output_type": "stream",
     "text": [
      "             A\n",
      "今开           0\n",
      "内盘      1.08万手\n",
      "外盘      1.04万手\n",
      "委比     -41.28%\n",
      "市净率       9.46\n",
      "总市值    259.77亿\n",
      "总股本      5.38亿\n",
      "成交量     2.11万手\n",
      "成交额      1.02亿\n",
      "振幅       1.29%\n",
      "换手率      0.80%\n",
      "昨收       48.65\n",
      "最低           0\n",
      "最高           0\n",
      "每股净资产     5.11\n",
      "每股收益      0.14\n",
      "流通市值   127.38亿\n",
      "流通股本     2.64亿\n",
      "涨停           0\n",
      "跌停           0\n",
      "量比        0.38\n"
     ]
    }
   ],
   "source": [
    "r = requests.get(\"https://gupiao.baidu.com/stock/sz300033.html\")\n",
    "r.raise_for_status()\n",
    "r.encoding = r.apparent_encoding\n",
    "stop = BeautifulSoup(r.text,\"lxml\")\n",
    "stockinfo = stop.find(\"div\",class_=\"stock-bets\")\n",
    "stockkey = stockinfo(\"dt\")\n",
    "stockvalues = stockinfo(\"dd\")\n",
    "#a = \"{0:<10}  {1:<8}\"\n",
    "d={}\n",
    "for i in range(len(stockkey)):\n",
    "    try:\n",
    "        key = re.findall(r'<dt>(.*?)</dt>',str(stockkey[i]))\n",
    "        val = re.findall(r'<dd>(.*?)</dd>',str(stockvalues[i]))\n",
    "        if len(val) == 0:\n",
    "            val = \"0\"\n",
    "        d[key[0]]=val[0]\n",
    "        #print(len(val),type(val))\n",
    "        #print(a.format(key[0],val[0]))\n",
    "    except:\n",
    "        pass\n",
    "dd = pd.Series(d)\n",
    "date = pd.DataFrame(dd,columns=list(\"A\"))\n",
    "print(date)\n",
    "\n",
    "\n",
    "\n"
   ]
  },
  {
   "cell_type": "code",
   "execution_count": null,
   "metadata": {
    "collapsed": true
   },
   "outputs": [],
   "source": []
  }
 ],
 "metadata": {
  "kernelspec": {
   "display_name": "Python 3",
   "language": "python",
   "name": "python3"
  },
  "language_info": {
   "codemirror_mode": {
    "name": "ipython",
    "version": 3
   },
   "file_extension": ".py",
   "mimetype": "text/x-python",
   "name": "python",
   "nbconvert_exporter": "python",
   "pygments_lexer": "ipython3",
   "version": "3.6.2"
  }
 },
 "nbformat": 4,
 "nbformat_minor": 0
}
