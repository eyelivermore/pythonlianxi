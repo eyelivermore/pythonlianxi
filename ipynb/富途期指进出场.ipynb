{
 "cells": [
  {
   "cell_type": "code",
   "execution_count": 3,
   "metadata": {
    "collapsed": true
   },
   "outputs": [],
   "source": [
    "import pandas as pd\n",
    "import numpy as np"
   ]
  },
  {
   "cell_type": "code",
   "execution_count": 4,
   "metadata": {
    "collapsed": true
   },
   "outputs": [],
   "source": [
    "d = {'code': 'HK.00700', 'Bid': [(359.8, 10600, 5), (359.6, 28700, 9), (359.4, 100, 1), (359.2, 22500, 6), (359.0, 70400, 33), (358.8, 28200, 12), (358.6, 13800, 11), (358.4, 22200, 12), (358.2, 30300, 25), (358.0, 109600, 78)], 'Ask': [(360.0, 16500, 19), (360.2, 54100, 24), (360.4, 10900, 7), (360.6, 33000, 12), (360.8, 38600, 16), (361.0, 61200, 23), (361.2, 5900, 3), (361.4, 42000, 6), (361.6, 59600, 12), (361.8, 11100, 7)]}"
   ]
  },
  {
   "cell_type": "code",
   "execution_count": 46,
   "metadata": {},
   "outputs": [
    {
     "data": {
      "text/plain": [
       "array([[3.598e+02, 1.060e+04, 5.000e+00],\n",
       "       [3.596e+02, 2.870e+04, 9.000e+00],\n",
       "       [3.594e+02, 1.000e+02, 1.000e+00],\n",
       "       [3.592e+02, 2.250e+04, 6.000e+00],\n",
       "       [3.590e+02, 7.040e+04, 3.300e+01],\n",
       "       [3.588e+02, 2.820e+04, 1.200e+01],\n",
       "       [3.586e+02, 1.380e+04, 1.100e+01],\n",
       "       [3.584e+02, 2.220e+04, 1.200e+01],\n",
       "       [3.582e+02, 3.030e+04, 2.500e+01],\n",
       "       [3.580e+02, 1.096e+05, 7.800e+01]])"
      ]
     },
     "execution_count": 46,
     "metadata": {},
     "output_type": "execute_result"
    }
   ],
   "source": [
    "n = np.array(d[\"Bid\"],dtype=np.float64)\n",
    "n"
   ]
  },
  {
   "cell_type": "code",
   "execution_count": 55,
   "metadata": {},
   "outputs": [
    {
     "data": {
      "text/plain": [
       "array([1.060e+04, 2.870e+04, 1.000e+02, 2.250e+04, 7.040e+04, 2.820e+04,\n",
       "       1.380e+04, 2.220e+04, 3.030e+04, 1.096e+05])"
      ]
     },
     "execution_count": 55,
     "metadata": {},
     "output_type": "execute_result"
    }
   ],
   "source": [
    "ls =n[:,1]\n",
    "ls"
   ]
  },
  {
   "cell_type": "code",
   "execution_count": 52,
   "metadata": {},
   "outputs": [
    {
     "data": {
      "text/plain": [
       "336400.0"
      ]
     },
     "execution_count": 52,
     "metadata": {},
     "output_type": "execute_result"
    }
   ],
   "source": [
    "lsn = np.sum(ls)\n",
    "lsn"
   ]
  },
  {
   "cell_type": "code",
   "execution_count": 57,
   "metadata": {
    "scrolled": true
   },
   "outputs": [
    {
     "data": {
      "text/plain": [
       "9"
      ]
     },
     "execution_count": 57,
     "metadata": {},
     "output_type": "execute_result"
    }
   ],
   "source": [
    "np.argmax(ls)"
   ]
  },
  {
   "cell_type": "code",
   "execution_count": 60,
   "metadata": {},
   "outputs": [],
   "source": [
    "a,b,c = n[np.argmax(ls),:]"
   ]
  },
  {
   "cell_type": "code",
   "execution_count": 59,
   "metadata": {},
   "outputs": [
    {
     "data": {
      "text/plain": [
       "'价格358.0 挂单量109600.0挂单人数78.0'"
      ]
     },
     "execution_count": 59,
     "metadata": {},
     "output_type": "execute_result"
    }
   ],
   "source": [
    "\"价格{} 挂单量{}挂单人数{}\".format(a,b,c)"
   ]
  }
 ],
 "metadata": {
  "kernelspec": {
   "display_name": "Python 3",
   "language": "python",
   "name": "python3"
  },
  "language_info": {
   "codemirror_mode": {
    "name": "ipython",
    "version": 3
   },
   "file_extension": ".py",
   "mimetype": "text/x-python",
   "name": "python",
   "nbconvert_exporter": "python",
   "pygments_lexer": "ipython3",
   "version": "3.6.2"
  },
  "toc": {
   "base_numbering": 1,
   "nav_menu": {},
   "number_sections": false,
   "sideBar": true,
   "skip_h1_title": true,
   "title_cell": "Table of Contents",
   "title_sidebar": "Contents",
   "toc_cell": false,
   "toc_position": {},
   "toc_section_display": true,
   "toc_window_display": false
  }
 },
 "nbformat": 4,
 "nbformat_minor": 1
}
