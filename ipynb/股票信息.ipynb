{
 "cells": [
  {
   "cell_type": "code",
   "execution_count": 2,
   "metadata": {
    "collapsed": true
   },
   "outputs": [],
   "source": [
    "import requests\n",
    "import re\n",
    "from bs4 import BeautifulSoup\n",
    "import pymysql"
   ]
  },
  {
   "cell_type": "code",
   "execution_count": 18,
   "metadata": {},
   "outputs": [
    {
     "name": "stdout",
     "output_type": "stream",
     "text": [
      "正常写入数据MMM,3M,212.62\n",
      "正常写入数据AXP,American Express,91.0\n",
      "正常写入数据AAPL,Apple,166.68\n",
      "正常写入数据BA,Boeing,322.44\n",
      "正常写入数据CAT,Caterpillar,143.89\n",
      "正常写入数据CVX,Chevron,112.24\n",
      "正常写入数据CSCO,Cisco,41.01\n",
      "正常写入数据KO,Coca-Cola,42.67\n",
      "正常写入数据DIS,Disney,98.66\n",
      "正常写入数据DWDP,DowDuPont Inc,62.04\n",
      "正常写入数据XOM,Exxon Mobil,73.22\n",
      "正常写入数据GE,General Electric,13.12\n",
      "正常写入数据GS,Goldman Sachs,247.35\n",
      "正常写入数据HD,Home Depot,172.9\n",
      "正常写入数据IBM,IBM,150.07\n",
      "正常写入数据INTC,Intel,48.92\n",
      "正常写入数据JNJ,Johnson & Johnson,124.56\n",
      "正常写入数据JPM,JPMorgan Chase,107.85\n",
      "正常写入数据MCD,McDonald's,157.72\n",
      "正常写入数据MRK,Merck,53.27\n",
      "正常写入数据MSFT,Microsoft,88.52\n",
      "正常写入数据NKE,Nike,64.12\n",
      "正常写入数据PFE,Pfizer,35.05\n",
      "正常写入数据PG,Procter & Gamble,77.4\n",
      "正常写入数据TRV,Travelers Companies Inc,134.84\n",
      "正常写入数据UTX,United Technologies,123.48\n",
      "正常写入数据UNH,UnitedHealth,217.2\n",
      "正常写入数据VZ,Verizon,47.16\n",
      "正常写入数据V,Visa,118.39\n",
      "正常写入数据WMT,Wal-Mart,85.55\n"
     ]
    }
   ],
   "source": [
    "url = 'http://money.cnn.com/data/dow30/'\n",
    "html = requests.get(url)\n",
    "soup = BeautifulSoup(html.text,\"lxml\")\n",
    "trname = soup.find_all(\"tr\")\n",
    "storkprice = []\n",
    "namelist = []\n",
    "storkname = []\n",
    "nameprice = {}\n",
    "\n",
    "def RmyQsl(id,name,price):\n",
    "    id = id\n",
    "    name = name\n",
    "    price = price\n",
    "    db = pymysql.connect(host='localhost',user='root', password='Lovegame3998', port=3306 , db='spiders')\n",
    "    cursor = db.cursor()\n",
    "    sql = 'INSERT INTO students(id, name, price) values(%s, %s, %s)'\n",
    "    try:\n",
    "        cursor.execute(sql, (id, name, price))\n",
    "        db.commit()\n",
    "    except:\n",
    "        db.rollback()\n",
    "    \n",
    "    db.close()\n",
    "    print(\"正常写入数据{},{},{}\".format(id,name,price))\n",
    "for i in trname:\n",
    "    try:\n",
    "        name = i.find(\"a\",class_=\"wsod_symbol\").string\n",
    "        price = i.find(\"span\",class_=\"wsod_stream\").string\n",
    "        aname = i.find(\"span\").string\n",
    "        id = str(name)\n",
    "        na = str(aname)\n",
    "        pr = float(price)\n",
    "#         storkname.append(aname)\n",
    "#         namelist.append(name)\n",
    "#         storkprice.append(price)\n",
    "#         nameprice[name] =(aname,float(price))\n",
    "        RmyQsl(id,na,pr)\n",
    "       \n",
    "    except:\n",
    "        continue\n",
    "#print(storkname)\n",
    "#print(namelist)\n",
    "#print(storkprice)\n",
    "# print(nameprice)\n",
    "# strprice = str(nameprice)\n",
    "\n"
   ]
  },
  {
   "cell_type": "code",
   "execution_count": 12,
   "metadata": {},
   "outputs": [
    {
     "name": "stdout",
     "output_type": "stream",
     "text": [
      "<class 'float'>\n"
     ]
    }
   ],
   "source": []
  }
 ],
 "metadata": {
  "kernelspec": {
   "display_name": "Python 3",
   "language": "python",
   "name": "python3"
  },
  "language_info": {
   "codemirror_mode": {
    "name": "ipython",
    "version": 3
   },
   "file_extension": ".py",
   "mimetype": "text/x-python",
   "name": "python",
   "nbconvert_exporter": "python",
   "pygments_lexer": "ipython3",
   "version": "3.6.2"
  }
 },
 "nbformat": 4,
 "nbformat_minor": 2
}
