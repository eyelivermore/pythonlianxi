{
 "cells": [
  {
   "cell_type": "code",
   "execution_count": 14,
   "metadata": {},
   "outputs": [
    {
     "data": {
      "text/plain": [
       "42"
      ]
     },
     "execution_count": 14,
     "metadata": {},
     "output_type": "execute_result"
    }
   ],
   "source": [
    "#位置参数\n",
    "#调用的时候传入的参数是与函数定义的参数一一对应的\n",
    "def power(x,y):\n",
    "    return x * y\n",
    "\n",
    "d = power(6,7)\n",
    "d"
   ]
  },
  {
   "cell_type": "code",
   "execution_count": 13,
   "metadata": {},
   "outputs": [
    {
     "data": {
      "text/plain": [
       "42"
      ]
     },
     "execution_count": 13,
     "metadata": {},
     "output_type": "execute_result"
    }
   ],
   "source": [
    "# 默认参数\n",
    "#n就是默认参数\n",
    "'''\n",
    "当函数有多个参数时，把变化大的参数放前面，变化小的参数放后面。变化小的参数就可以作为默认参数。\n",
    "\n",
    "使用默认参数有什么好处？最大的好处是能降低调用函数的难度。\n",
    "\n",
    "定义默认参数要牢记一点：默认参数必须指向不变对象！\n",
    "'''\n",
    "def power(x,n =2):\n",
    "    return x * n\n",
    "\n",
    "d = power(6,7)\n",
    "\n",
    "d"
   ]
  },
  {
   "cell_type": "code",
   "execution_count": 7,
   "metadata": {},
   "outputs": [
    {
     "data": {
      "text/plain": [
       "14"
      ]
     },
     "execution_count": 7,
     "metadata": {},
     "output_type": "execute_result"
    }
   ],
   "source": [
    "#可变参数\n",
    "'''\n",
    "可变参数就是传入的参数个数是可变的，可以是1个、2个到任意个，还可以是0个。\n",
    "在参数前面加一个*，它就在函数里面得到一个元组\n",
    "\n",
    "'''\n",
    "\n",
    "def calc(*numbers):\n",
    "    sum = 0\n",
    "    for n in numbers:\n",
    "        sum = sum + n * n\n",
    "    return sum\n",
    "\n",
    "d = calc(1,2,3)\n",
    "d"
   ]
  },
  {
   "cell_type": "code",
   "execution_count": 8,
   "metadata": {
    "scrolled": true
   },
   "outputs": [
    {
     "name": "stdout",
     "output_type": "stream",
     "text": [
      "{'a': 7}\n"
     ]
    }
   ],
   "source": [
    "#关健字参数\n",
    "'''\n",
    "关键字参数允许你传入0个或任意个含参数名的参数，这些关键字参数在函数内部自动组装为一个字典dict\n",
    "关键字参数有什么用？它可以扩展函数的功能\n",
    "\n",
    "\n",
    "'''\n",
    "\n",
    "def person(**kw):\n",
    "    print(kw)\n",
    "    \n",
    "person(a = 7)"
   ]
  },
  {
   "cell_type": "code",
   "execution_count": 10,
   "metadata": {},
   "outputs": [
    {
     "name": "stdout",
     "output_type": "stream",
     "text": [
      "beijin 28\n"
     ]
    }
   ],
   "source": [
    "#命名关键字参数\n",
    "'''\n",
    "如果要限制关键字参数的名字，就可以用命名关键字参数，\n",
    "和关键字参数**kw不同，命名关键字参数需要一个特殊分隔符*，*后面的参数被视为命名关键字参数\n",
    "如果函数定义中已经有了一个可变参数，后面跟着的命名关键字参数就不再需要一个特殊分隔符*了\n",
    "命名关键字参数必须传入参数名，这和位置参数不同。如果没有传入参数名，调用将报错\n",
    "'''\n",
    "\n",
    "def person(*, city, job):\n",
    "    print(city, job)\n",
    "    \n",
    "person(city = 'beijin',job = 28)"
   ]
  },
  {
   "cell_type": "code",
   "execution_count": null,
   "metadata": {
    "collapsed": true
   },
   "outputs": [],
   "source": [
    "'''在Python中定义函数，可以用必选参数、默认参数、可变参数、关键字参数和命名关键字参数，\n",
    "这5种参数都可以组合使用。\n",
    "但是请注意，\n",
    "参数定义的顺序必须是：必选参数、默认参数、可变参数、命名关键字参数和关键字参数\n",
    "\n",
    "'''"
   ]
  }
 ],
 "metadata": {
  "kernelspec": {
   "display_name": "Python 3",
   "language": "python",
   "name": "python3"
  },
  "language_info": {
   "codemirror_mode": {
    "name": "ipython",
    "version": 3
   },
   "file_extension": ".py",
   "mimetype": "text/x-python",
   "name": "python",
   "nbconvert_exporter": "python",
   "pygments_lexer": "ipython3",
   "version": "3.6.2"
  },
  "toc": {
   "base_numbering": 1,
   "nav_menu": {},
   "number_sections": true,
   "sideBar": true,
   "skip_h1_title": false,
   "title_cell": "Table of Contents",
   "title_sidebar": "Contents",
   "toc_cell": false,
   "toc_position": {},
   "toc_section_display": true,
   "toc_window_display": false
  }
 },
 "nbformat": 4,
 "nbformat_minor": 1
}
